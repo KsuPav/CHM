{
  "nbformat": 4,
  "nbformat_minor": 0,
  "metadata": {
    "colab": {
      "name": "lab2_2.ipynb",
      "provenance": [],
      "collapsed_sections": []
    },
    "kernelspec": {
      "name": "python3",
      "display_name": "Python 3"
    },
    "language_info": {
      "name": "python"
    }
  },
  "cells": [
    {
      "cell_type": "code",
      "metadata": {
        "id": "jEzL0Zwr1780"
      },
      "source": [
        "import math\n",
        "import numpy as np\n",
        "import matplotlib.pyplot as plt"
      ],
      "execution_count": 32,
      "outputs": []
    },
    {
      "cell_type": "markdown",
      "metadata": {
        "id": "p2n2Un6nHI7t"
      },
      "source": [
        "Вариант 17:\n",
        "$$\n",
        "\\begin{equation*}\n",
        " \\begin{cases}\n",
        "   3⋅x_1-cosx_2=0\\\\\n",
        "   3⋅x_2-e^{x_1}=0\n",
        " \\end{cases}\n",
        "\\end{equation*}\n",
        "$$"
      ]
    },
    {
      "cell_type": "code",
      "metadata": {
        "id": "ZXoYIRFXXHWo"
      },
      "source": [
        "def f_show1(x2):\n",
        "  return math.cos(x2)/3"
      ],
      "execution_count": 46,
      "outputs": []
    },
    {
      "cell_type": "code",
      "metadata": {
        "id": "yYMZUQF0XNyi"
      },
      "source": [
        "def f_show2(x2):\n",
        "  return math.log(3*x2)"
      ],
      "execution_count": 47,
      "outputs": []
    },
    {
      "cell_type": "code",
      "metadata": {
        "id": "FBrGirpVJX2Y"
      },
      "source": [
        "def d_phi1(x2):\n",
        "    return -math.sin(x2)/3"
      ],
      "execution_count": 27,
      "outputs": []
    },
    {
      "cell_type": "code",
      "metadata": {
        "id": "7jWz2peeJdfp"
      },
      "source": [
        "def d_phi2(x1):\n",
        "    return math.exp(x1)/3"
      ],
      "execution_count": 26,
      "outputs": []
    },
    {
      "cell_type": "code",
      "metadata": {
        "id": "mf93obxhJfEg"
      },
      "source": [
        "def phi2(x1):\n",
        "    return math.exp(x1)/3"
      ],
      "execution_count": 24,
      "outputs": []
    },
    {
      "cell_type": "code",
      "metadata": {
        "id": "wWVtxHLvJg-z"
      },
      "source": [
        "def phi1(x2):\n",
        "    return math.cos(x2)/3"
      ],
      "execution_count": 25,
      "outputs": []
    },
    {
      "cell_type": "code",
      "metadata": {
        "id": "xwsHJtU-J015"
      },
      "source": [
        "def f1(x1, x2):\n",
        "    return 3*x1 - math.cos(x2)"
      ],
      "execution_count": 63,
      "outputs": []
    },
    {
      "cell_type": "code",
      "metadata": {
        "id": "-uG1eEDGJ2jF"
      },
      "source": [
        "def f2(x1, x2):\n",
        "    return 3*x2 - math.exp(x1)"
      ],
      "execution_count": 62,
      "outputs": []
    },
    {
      "cell_type": "code",
      "metadata": {
        "id": "6AHidpBZJ3v5"
      },
      "source": [
        "def d_1fun_x1(x1, x2):\n",
        "    return 3"
      ],
      "execution_count": 64,
      "outputs": []
    },
    {
      "cell_type": "code",
      "metadata": {
        "id": "irvKHLQpJ4wq"
      },
      "source": [
        "def d_1fun_x2(x1, x2):\n",
        "    return math.sin(x2)"
      ],
      "execution_count": 65,
      "outputs": []
    },
    {
      "cell_type": "code",
      "metadata": {
        "id": "fyIkR7hOJ5sn"
      },
      "source": [
        "def d_2fun_x1(x1, x2):\n",
        "    return - math.exp(x1)"
      ],
      "execution_count": 66,
      "outputs": []
    },
    {
      "cell_type": "code",
      "metadata": {
        "id": "QhcLU8XQQZBb"
      },
      "source": [
        "def d_2fun_x2(x1, x2):\n",
        "    return 3"
      ],
      "execution_count": 67,
      "outputs": []
    },
    {
      "cell_type": "code",
      "metadata": {
        "id": "1wtB9rFuQeiT"
      },
      "source": [
        "def det_a1(x1, x2):\n",
        "    return f1(x1, x2) * d_2fun_x2(x1, x2) - f2(x1, x2) * d_1fun_x2(x1, x2)"
      ],
      "execution_count": 12,
      "outputs": []
    },
    {
      "cell_type": "code",
      "metadata": {
        "id": "KRMpGKniQf1i"
      },
      "source": [
        "def det_a2(x1, x2):\n",
        "    return f2(x1, x2) * d_1fun_x1(x1, x2) - f1(x1, x2) * d_2fun_x1(x1, x2)"
      ],
      "execution_count": 13,
      "outputs": []
    },
    {
      "cell_type": "code",
      "metadata": {
        "id": "3EwcmHURQg_o"
      },
      "source": [
        "# Якобиан\n",
        "def det_J(x1, x2):\n",
        "    return d_1fun_x1(x1, x2) * d_2fun_x2(x1, x2) - d_2fun_x1(x1, x2) * d_1fun_x2(x1, x2)"
      ],
      "execution_count": 14,
      "outputs": []
    },
    {
      "cell_type": "code",
      "metadata": {
        "id": "5FDy3VznQiXz"
      },
      "source": [
        "def minus_vectors(a, b):\n",
        "    n = len(a)\n",
        "    res = np.zeros(n)\n",
        "\n",
        "    for i in range(0, n):\n",
        "        res[i] = a[i] - b[i]\n",
        "\n",
        "    return res"
      ],
      "execution_count": 15,
      "outputs": []
    },
    {
      "cell_type": "code",
      "metadata": {
        "id": "SU9-pwMDQjYt"
      },
      "source": [
        "def norma_vector(a):\n",
        "    sum = 0\n",
        "    n = len(a)\n",
        "    for i in range(0, n):\n",
        "        sum += a[i] * a[i]\n",
        "        \n",
        "    sum = math.sqrt(sum)\n",
        "    return sum"
      ],
      "execution_count": 16,
      "outputs": []
    },
    {
      "cell_type": "code",
      "metadata": {
        "id": "ok4067xmQltR"
      },
      "source": [
        "def SimpleIterationsMethod(epsilon, n):\n",
        "    xk = np.zeros(n)\n",
        "    xk_tmp = np.zeros(n)\n",
        "\n",
        "    xk[0] = 1.8\n",
        "    xk[1] = 1\n",
        "    x2a = 1.7\n",
        "    x2b = 1.8\n",
        "    x1a = 0.5\n",
        "    x1b = 1\n",
        "    #производные на участках мотононные, поэтому найдем максимум производных так:\n",
        "    dphi1_max = max(d_phi1(x2a), d_phi1(x2b))\n",
        "    dphi2_max = max(d_phi2(x1a), d_phi2(x1b))\n",
        "\n",
        "    q = max(abs(dphi1_max), abs(dphi2_max))\n",
        "\n",
        "    #проверка условия наличия решения\n",
        "    if q > 1:\n",
        "        print(f\"Sufficient condition is not met : q = {q} > 1\")\n",
        "        return\n",
        "\n",
        "    print(f\"Sufficient condition is met : q = {q} < 1\")\n",
        "\n",
        "    counter = 0\n",
        "    #Вычисляем корень по рекурентной формуле простых итераций\n",
        "    while ((q / (1 - q)) * norma_vector(minus_vectors(xk, xk_tmp)) > epsilon):\n",
        "        if counter != 0:\n",
        "            xk[0] = xk_tmp[0]\n",
        "            xk[1] = xk_tmp[1]\n",
        "\n",
        "        counter = counter + 1\n",
        "        xk_tmp[0] = phi1(xk[1])\n",
        "        xk_tmp[1] = phi2(xk[0])\n",
        "\n",
        "    print(f\"x1 = {xk[0]}, x2 = {xk[1]}, on {counter} iteration\")"
      ],
      "execution_count": 78,
      "outputs": []
    },
    {
      "cell_type": "code",
      "metadata": {
        "id": "XYV1EsmzQnQ4"
      },
      "source": [
        "def newtonMethod(x0, epsilon, n):\n",
        "    \n",
        "    xk = np.zeros(n)\n",
        "    xk_tmp = np.zeros(n)\n",
        "    detk = np.zeros(n)\n",
        "\n",
        "    xk_tmp = x0\n",
        "\n",
        "    counter = 0\n",
        "\n",
        "    #Вычисляем корень по рекурентной формуле Ньютона\n",
        "    while norma_vector(minus_vectors(xk, xk_tmp)) > epsilon:\n",
        "        xk[0] = xk_tmp[0]\n",
        "        xk[1] = xk_tmp[1]\n",
        "\n",
        "        detk[0] = det_a1(xk[0], xk[1]) / det_J(xk[0], xk[1])\n",
        "        detk[1] = det_a2(xk[0], xk[1]) / det_J(xk[0], xk[1])\n",
        "\n",
        "        xk_tmp = minus_vectors(xk, detk)\n",
        "        counter = counter + 1\n",
        "\n",
        "    print(f\"x1 = {xk[0]}, x2 = {xk[1]}, on {counter} iteration\")"
      ],
      "execution_count": 69,
      "outputs": []
    },
    {
      "cell_type": "markdown",
      "metadata": {
        "id": "9vMas2guWaHh"
      },
      "source": [
        "# Метод простых итераций"
      ]
    },
    {
      "cell_type": "code",
      "metadata": {
        "colab": {
          "base_uri": "https://localhost:8080/",
          "height": 296
        },
        "id": "xgxyM2p_W30F",
        "outputId": "6cdbcd40-7cf7-4b6d-cfef-4596db515452"
      },
      "source": [
        "#Построим графики\n",
        "x = np.linspace(-2,2,100)\n",
        "phi1_ = []\n",
        "phi2_ = []\n",
        "for x_ in x:\n",
        "  phi1_.append(phi1(x_))\n",
        "  phi2_.append(phi2(x_))\n",
        "plt.plot(x,phi1_)\n",
        "plt.plot(phi2_,x)\n",
        "plt.xlabel('x2')\n",
        "plt.ylabel('x1')\n",
        "#положительное решение находится в квадрате 0 < x2 < 1, 0 < x1 < 0.5\n",
        "#за начальное приближение возьмем точку (0.5,0.5)"
      ],
      "execution_count": 45,
      "outputs": [
        {
          "output_type": "execute_result",
          "data": {
            "text/plain": [
              "Text(0, 0.5, 'x1')"
            ]
          },
          "metadata": {},
          "execution_count": 45
        },
        {
          "output_type": "display_data",
          "data": {
            "image/png": "[encoded data removed]",
            "text/plain": [
              "<Figure size 432x288 with 1 Axes>"
            ]
          },
          "metadata": {
            "needs_background": "light"
          }
        }
      ]
    },
    {
      "cell_type": "code",
      "metadata": {
        "colab": {
          "base_uri": "https://localhost:8080/"
        },
        "id": "GZQC-qNvSD9_",
        "outputId": "1244535f-a44f-42af-c6e5-cc6fe71f4ca9"
      },
      "source": [
        "epsilon = [0.1, 0.001, 0.0001, 0.00001]\n",
        "\n",
        "# Посчитаем решения для различных точностей методом простых итераций\n",
        "print(\"\\n\\t\\tSimple iterations method\\n\")\n",
        "for eps in epsilon:\n",
        "    SimpleIterationsMethod(eps, 2)"
      ],
      "execution_count": 79,
      "outputs": [
        {
          "output_type": "stream",
          "name": "stdout",
          "text": [
            "\n",
            "\t\tSimple iterations method\n",
            "\n",
            "Sufficient condition is met : q = 0.9060939428196817 < 1\n",
            "x1 = 0.2996871823843739, x2 = 0.45883014826849694, on 6 iteration\n",
            "Sufficient condition is met : q = 0.9060939428196817 < 1\n",
            "x1 = 0.3002303299151301, x2 = 0.45003225019865695, on 9 iteration\n",
            "Sufficient condition is met : q = 0.9060939428196817 < 1\n",
            "x1 = 0.30014082940172965, x2 = 0.45001789487707516, on 11 iteration\n",
            "Sufficient condition is met : q = 0.9060939428196817 < 1\n",
            "x1 = 0.30014666976107685, x2 = 0.45001883157442907, on 13 iteration\n"
          ]
        }
      ]
    },
    {
      "cell_type": "markdown",
      "metadata": {
        "id": "PsxAR-9NSMAr"
      },
      "source": [
        "# Метод Ньютона"
      ]
    },
    {
      "cell_type": "code",
      "metadata": {
        "colab": {
          "base_uri": "https://localhost:8080/",
          "height": 296
        },
        "id": "ktY_apJjSuzU",
        "outputId": "1f4d23be-2f20-415d-d09f-19dc8b119ad8"
      },
      "source": [
        "#Построим графики\n",
        "x = np.linspace(0.05,1,100)\n",
        "f1_ = []\n",
        "f2_ = []\n",
        "for x_ in x:\n",
        "  f1_.append(f_show1(x_))\n",
        "  f2_.append(f_show2(x_))\n",
        "plt.plot(x,f1_)\n",
        "plt.plot(x,f2_)\n",
        "plt.xlabel('x2')\n",
        "plt.ylabel('x1')"
      ],
      "execution_count": 54,
      "outputs": [
        {
          "output_type": "execute_result",
          "data": {
            "text/plain": [
              "Text(0, 0.5, 'x1')"
            ]
          },
          "metadata": {},
          "execution_count": 54
        },
        {
          "output_type": "display_data",
          "data": {
            "image/png": "[encoded data removed]",
            "text/plain": [
              "<Figure size 432x288 with 1 Axes>"
            ]
          },
          "metadata": {
            "needs_background": "light"
          }
        }
      ]
    },
    {
      "cell_type": "code",
      "metadata": {
        "colab": {
          "base_uri": "https://localhost:8080/"
        },
        "id": "70AGVylrQpz_",
        "outputId": "1205b3a7-ee89-41fd-da72-bbb004f37331"
      },
      "source": [
        "epsilon = [0.1, 0.001, 0.0001, 0.00001]\n",
        "\n",
        "# Посчитаем решения для различных точностей методом Ньютона\n",
        "print(\"\\n\\t\\tNewton method\\n\")\n",
        "for eps in epsilon:\n",
        "    newtonMethod([0.5,0.5],eps, 2)"
      ],
      "execution_count": 80,
      "outputs": [
        {
          "output_type": "stream",
          "name": "stdout",
          "text": [
            "\n",
            "\t\tNewton method\n",
            "\n",
            "x1 = 0.30199528609907034, x2 = 0.44075556239759067, on 2 iteration\n",
            "x1 = 0.3001585522523673, x2 = 0.45002352253691436, on 3 iteration\n",
            "x1 = 0.3001585522523673, x2 = 0.45002352253691436, on 3 iteration\n",
            "x1 = 0.3001463120293105, x2 = 0.45001877416844893, on 4 iteration\n"
          ]
        }
      ]
    }
  ]
}
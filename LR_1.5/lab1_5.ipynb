{
  "nbformat": 4,
  "nbformat_minor": 0,
  "metadata": {
    "colab": {
      "name": "lab1_5.ipynb",
      "provenance": [],
      "collapsed_sections": []
    },
    "kernelspec": {
      "display_name": "Python 3",
      "name": "python3"
    },
    "language_info": {
      "name": "python"
    }
  },
  "cells": [
    {
      "cell_type": "code",
      "metadata": {
        "id": "mN7o_5lIAwq7"
      },
      "source": [
        "import numpy as np\n",
        "import math"
      ],
      "execution_count": null,
      "outputs": []
    },
    {
      "cell_type": "code",
      "metadata": {
        "id": "GDQxbfx1I4uc"
      },
      "source": [
        "def QR(a):    \n",
        "  h = np.zeros((n, n))\n",
        "  hk = np.zeros((n, n))\n",
        "  r = np.zeros((n, n))\n",
        "\n",
        "  E = np.zeros((n, n))\n",
        "  res_d = 0\n",
        "  res_x1 = 0\n",
        "  res_x2 = 0\n",
        "  res_y1 = 0\n",
        "  res_y2 = 0\n",
        "\n",
        "  prev_d = 0\n",
        "  prev_x1 = 0\n",
        "  prev_x2 = 0\n",
        "  prev_y1 = 0\n",
        "  prev_y2 = 0\n",
        "  flag = 0\n",
        "  for i in range(n):\n",
        "      for j in range(n):\n",
        "          if i != j:\n",
        "              E[i][j] = 0\n",
        "              h[i][j] = 0\n",
        "          else:\n",
        "              E[i][j] = 1\n",
        "              h[i][j] = 1\n",
        "\n",
        "  counter = 0\n",
        "  v = np.zeros(n)\n",
        "  while True:\n",
        "      counter = counter + 1\n",
        "\n",
        "      for i in range(n-1):\n",
        "          norma = get_norm_of_row(a, i)\n",
        "          signum = 0\n",
        "          for j in range(0, n):\n",
        "              if j >= i:\n",
        "                  v[j] = a[j][i]\n",
        "                  if i == j:\n",
        "                      signum = sign(a[j][i])\n",
        "                      v[j] += signum * norma\n",
        "              else:\n",
        "                  v[j] = 0\n",
        "\n",
        "          hk = multiplyQR(v)\n",
        "\n",
        "          for k in range(n):\n",
        "              for j in range(n):\n",
        "                  if k == j:\n",
        "                      hk[k][j] = 1 - hk[k][j]\n",
        "                  else:\n",
        "                      hk[k][j] = -hk[k][j]\n",
        "\n",
        "          # получаем матрицу Хаусхолдера\n",
        "          h = multiply(h, hk)\n",
        "\n",
        "          # изменяем матрицу А = А*h\n",
        "          a = multiply(hk, a)\n",
        "          # Получаем верхнетреугольную матрицу r\n",
        "          if i == n - 2:\n",
        "              r = multiply(E, a)\n",
        "\n",
        "      a = multiply(r, h)\n",
        "\n",
        "      # считаем корень из суммы квадратов поддиагональных элементов\n",
        "      sum = 0\n",
        "      for i in range(n-1):\n",
        "          for j in range(i+1, n):\n",
        "              end[i] += a[j][i]**2\n",
        "          sum += end[i]\n",
        "      sum = math.sqrt(sum)\n",
        "      # если сумма меньше точности, то выходим\n",
        "      if sum < epsilon:\n",
        "          break\n",
        "\n",
        "      # проверяем, есть ли комплексные собственные значения\n",
        "      if precheckComplex(a) == 1:\n",
        "\n",
        "          indexes = checkComplex(a)\n",
        "          for i in range(n-1):\n",
        "              flag = 1\n",
        "              if indexes[i] != -1:\n",
        "                  res_d, res_x1, res_x2, res_y1, res_y2 = getRoots(a, i)\n",
        "                  flag = 1\n",
        "                  if (prev_x1 - res_x1 < epsilon and\n",
        "                      prev_x2 - res_x2 < epsilon and\n",
        "                      prev_y1 - res_y1 < epsilon and\n",
        "                      prev_y2 - res_y2 < epsilon):\n",
        "                      flag = 0\n",
        "\n",
        "                  prev_x1 = res_x1\n",
        "                  prev_x2 = res_x2\n",
        "                  prev_y1 = res_y1\n",
        "                  prev_y2 = res_y2\n",
        "\n",
        "          summ = 0\n",
        "          for i in range(n-1):\n",
        "              if indexes[i] != -1:\n",
        "                  summ += flag\n",
        "          #  выходим, если разница между комплексными корнями двух\n",
        "          #  соседних решений меньше заданной точности\n",
        "          if summ == 0:\n",
        "              break\n",
        "\n",
        "      #  Обнуляем матрицу Хаусхолдера\n",
        "      h = multiply(E, E)\n",
        "  return a, res_x1, res_x2, res_y1, res_y2, flag"
      ],
      "execution_count": 59,
      "outputs": []
    },
    {
      "cell_type": "code",
      "metadata": {
        "id": "HG95GTP9IWsm"
      },
      "source": [
        "def sign(x):\n",
        "    if x > 0:\n",
        "        return 1\n",
        "    elif x < 0:\n",
        "        return -1\n",
        "    else:\n",
        "        return 0"
      ],
      "execution_count": null,
      "outputs": []
    },
    {
      "cell_type": "code",
      "metadata": {
        "id": "6_eYUksUIeQ7"
      },
      "source": [
        "def show(a, n):\n",
        "    for i in range(0, n):\n",
        "        for j in range(0, n):\n",
        "            print(\"\\t\", a[i][j], \" \", end='')\n",
        "        print(\"\\n\")"
      ],
      "execution_count": null,
      "outputs": []
    },
    {
      "cell_type": "code",
      "metadata": {
        "id": "ILZ2pfAuIftk"
      },
      "source": [
        "def precheckComplex(a):\n",
        "    for j in range(n-2):\n",
        "        if abs(a[n - 1][j]) > epsilon:\n",
        "            return 0\n",
        "    return 1"
      ],
      "execution_count": null,
      "outputs": []
    },
    {
      "cell_type": "code",
      "metadata": {
        "id": "RpHN4RmSIg_O"
      },
      "source": [
        "def checkComplex(a):\n",
        "    indexes_of_nonzero_subdiag = np.zeros(n-1)\n",
        "    for i in range(n-1):\n",
        "        indexes_of_nonzero_subdiag[i] = -1\n",
        "        if abs(a[i + 1][i]) > epsilon:\n",
        "            indexes_of_nonzero_subdiag[i] = i\n",
        "    return indexes_of_nonzero_subdiag"
      ],
      "execution_count": null,
      "outputs": []
    },
    {
      "cell_type": "code",
      "metadata": {
        "id": "VNhTGz2HIiyk"
      },
      "source": [
        "def getRoots(a, i):\n",
        "    res_d = 0\n",
        "    a22 = a[i][i]\n",
        "    a23 = a[i][i + 1]\n",
        "    a32 = a[i + 1][i]\n",
        "    a33 = a[i + 1][i + 1]\n",
        "    d = (a22 + a33)**2 + 4 * (a23 * a32 - a22 * a33)\n",
        "    if d < 0:\n",
        "        d *= -1\n",
        "        res_d = -1\n",
        "    else:\n",
        "        res_d = 1\n",
        "        \n",
        "    res_x1 = (a22 + a33) / 2\n",
        "    res_x2 = (a22 + a33) / 2\n",
        "    res_y1 = math.sqrt(d) / 2\n",
        "    res_y2 = -math.sqrt(d) / 2\n",
        "    res_flag = 0\n",
        "\n",
        "    return res_d, res_x1, res_x2, res_y1, res_y2"
      ],
      "execution_count": 61,
      "outputs": []
    },
    {
      "cell_type": "code",
      "metadata": {
        "id": "Rf6vZy9bIkOA"
      },
      "source": [
        "def multiply(m1, m2):\n",
        "    sum = 0  # сумма\n",
        "    tmp = []  # временная матрица\n",
        "    ans = []  # конечная матрица\n",
        "    row1 = len(m1)  # количество строк в первой матрице\n",
        "    col1 = len(m1[0])  # Количество столбцов в 1\n",
        "    row2 = col1  # и строк во 2ой матрице\n",
        "    col2 = len(m2[0])  # количество столбцов во 2ой матрице\n",
        "    for k in range(0, row1):\n",
        "        for j in range(0, col2):\n",
        "            for i in range(0, col1):\n",
        "                sum = sum + m1[k][i] * m2[i][j]\n",
        "            tmp.append(sum)\n",
        "            sum = 0\n",
        "        ans.append(tmp)\n",
        "        tmp = []\n",
        "    return ans"
      ],
      "execution_count": null,
      "outputs": []
    },
    {
      "cell_type": "code",
      "metadata": {
        "id": "6ZGGx2VQIlfj"
      },
      "source": [
        "#  функция для получения второго слагаемого формулы\n",
        "#  для получения матрицы Хаусходера\n",
        "def multiplyQR(a):\n",
        "    pr = 0\n",
        "    ab = np.zeros((n, n))\n",
        "    for i in range(n):\n",
        "        pr += a[i] * a[i]\n",
        "        for j in range(n):\n",
        "            ab[i][j] = 0\n",
        "            ab[i][j] = a[i] * a[j]\n",
        "    pr /= 2\n",
        "    for i in range(n):\n",
        "        for j in range(n):\n",
        "            ab[i][j] /= pr\n",
        "    return ab"
      ],
      "execution_count": null,
      "outputs": []
    },
    {
      "cell_type": "code",
      "metadata": {
        "id": "LfJrKMe9InGv"
      },
      "source": [
        "#  норма столбца матрицы\n",
        "def get_norm_of_row(a, row):\n",
        "    sum = 0\n",
        "    for i in range(row, n):\n",
        "        sum += a[i][row]**2\n",
        "    return math.sqrt(sum)"
      ],
      "execution_count": null,
      "outputs": []
    },
    {
      "cell_type": "markdown",
      "metadata": {
        "id": "1xf0pfenK0Vb"
      },
      "source": [
        "Вариант 17:\n",
        "\\begin{equation*}\n",
        "A = \\left(\n",
        "\\begin{array}{ccc}\n",
        "-6 &1 &-4\\\\\n",
        "-6&8 &-2\\\\\n",
        "2&-9&5\n",
        "\\end{array}\n",
        "\\right)\n",
        "\\end{equation*}"
      ]
    },
    {
      "cell_type": "code",
      "metadata": {
        "id": "WeGnww8tJr7K"
      },
      "source": [
        "n = 3\n",
        "epsilon = 0.0001"
      ],
      "execution_count": 38,
      "outputs": []
    },
    {
      "cell_type": "code",
      "metadata": {
        "id": "M5uCc4MmOpFC"
      },
      "source": [
        "a = [ [ -6, 1, -4 ], [ -6, 8, -2 ], [ 2, -9, 5] ]"
      ],
      "execution_count": 39,
      "outputs": []
    },
    {
      "cell_type": "code",
      "metadata": {
        "id": "L3xam1gcNiRy"
      },
      "source": [
        "a, res_x1, res_x2, res_y1, res_y2, flag = QR(a)"
      ],
      "execution_count": 62,
      "outputs": []
    },
    {
      "cell_type": "code",
      "metadata": {
        "colab": {
          "base_uri": "https://localhost:8080/"
        },
        "id": "yE9o52THOWIs",
        "outputId": "e644e03b-8760-4673-c85b-b5c757237f15"
      },
      "source": [
        "print(\"matrix a---------\\n\")\n",
        "show(a, n)\n",
        "print(\"SZ: \\n\")\n",
        "for i in range(n):\n",
        "    if i < n - 1:\n",
        "        if flag == 0:\n",
        "            if res_d == -1:\n",
        "                print(f\"L{i + 1} = {res_x1} + i({res_y1})\\nL{i + 2} = {res_x2} + i({res_y2})\\n\")\n",
        "            else:\n",
        "                print(f\"L{i + 1} = {res_x1 + res_y1}\\nL{i + 2} = {res_x2 + res_y2}\\n\")\n",
        "\n",
        "            i = i + 1\n",
        "        else:\n",
        "            print(f\"L{i + 1} = {a[i][i]}\\n\")\n",
        "    else:\n",
        "        print(f\"L{i + 1} = {a[i][i]}\\n\")"
      ],
      "execution_count": 63,
      "outputs": [
        {
          "output_type": "stream",
          "name": "stdout",
          "text": [
            "matrix a---------\n",
            "\n",
            "\t 8.321323756098895  \t 3.9200195042042627  \t -10.717478904152857  \n",
            "\n",
            "\t 9.741763060109453e-05  \t -6.26787637003157  \t 1.941650588671829  \n",
            "\n",
            "\t 2.960242502317698e-10  \t 3.868927347302183e-05  \t 4.946552613932668  \n",
            "\n",
            "SZ: \n",
            "\n",
            "L1 = 8.321323756098895\n",
            "\n",
            "L2 = -6.26787637003157\n",
            "\n",
            "L3 = 4.946552613932668\n",
            "\n"
          ]
        }
      ]
    },
    {
      "cell_type": "code",
      "metadata": {
        "colab": {
          "base_uri": "https://localhost:8080/"
        },
        "id": "n3Mg8v6sJv3o",
        "outputId": "45be83e0-f7e5-40f6-b0c3-c06424402e96"
      },
      "source": [
        "end = np.zeros(n-1)\n",
        "a = [ [ -6, 1, -4 ], [ -6, 8, -2 ], [ 2, -9, 5] ]\n",
        "a_ = a\n",
        "print(\"Проверка с помощью linalg:\")\n",
        "x, u = np.linalg.eig(a_)\n",
        "print('x:\\n', x)\n",
        "print('u:\\n')\n",
        "show(u, len(u))"
      ],
      "execution_count": null,
      "outputs": [
        {
          "name": "stdout",
          "output_type": "stream",
          "text": [
            "Проверка с помощью linalg:\n",
            "x:\n",
            " [-6.26790924  8.32134993  4.94655931]\n",
            "u:\n",
            "\n",
            "\t -0.901557940001651  \t 0.2730689443868811  \t -0.34810989894045224  \n",
            "\n",
            "\t -0.4016670501729452  \t 0.38588216292860433  \t -0.07180764618281674  \n",
            "\n",
            "\t -0.16080068913205686  \t -0.8812084361517293  \t 0.9346995026260321  \n",
            "\n"
          ]
        }
      ]
    }
  ]
}
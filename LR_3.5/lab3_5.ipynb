{
  "nbformat": 4,
  "nbformat_minor": 0,
  "metadata": {
    "colab": {
      "name": "lab3_5.ipynb",
      "provenance": [],
      "collapsed_sections": []
    },
    "kernelspec": {
      "name": "python3",
      "display_name": "Python 3"
    },
    "language_info": {
      "name": "python"
    }
  },
  "cells": [
    {
      "cell_type": "markdown",
      "metadata": {
        "id": "5twVBu5CvvXt"
      },
      "source": [
        "# Лабораторная работа 3, задача 5, вариант 17"
      ]
    },
    {
      "cell_type": "code",
      "metadata": {
        "id": "BcVJ5qVznvu1"
      },
      "source": [
        "import numpy as np"
      ],
      "execution_count": 2,
      "outputs": []
    },
    {
      "cell_type": "code",
      "metadata": {
        "id": "ceDcYIOTvubC"
      },
      "source": [
        "def func(x):\n",
        "    return 1/(256-x**4)"
      ],
      "execution_count": 4,
      "outputs": []
    },
    {
      "cell_type": "code",
      "metadata": {
        "id": "tcbZL__pv2ot"
      },
      "source": [
        "def getX(x0, x, step):\n",
        "    size = 1 + int((x - x0)/step)\n",
        "    return np.linspace(x0, x, size)"
      ],
      "execution_count": 6,
      "outputs": []
    },
    {
      "cell_type": "code",
      "metadata": {
        "id": "XIJC8a1Zv4SJ"
      },
      "source": [
        "def getY(x):\n",
        "    return [func(i) for i in x]"
      ],
      "execution_count": 7,
      "outputs": []
    },
    {
      "cell_type": "code",
      "metadata": {
        "id": "xI7zwGJ1v4lq"
      },
      "source": [
        "def rectangle(x, h):\n",
        "    return h * sum([func((x[i] + x[i + 1]) / 2) for i in range(len(x) - 1)])"
      ],
      "execution_count": 8,
      "outputs": []
    },
    {
      "cell_type": "code",
      "metadata": {
        "id": "Zvd03V2ov4p-"
      },
      "source": [
        "def trapeze(x, h):\n",
        "    y = getY(x)\n",
        "    return h * (y[0] / 2 + sum([y[i] for i in range(1, len(y) - 2)]) + y[len(y) - 1] / 2)"
      ],
      "execution_count": 52,
      "outputs": []
    },
    {
      "cell_type": "code",
      "metadata": {
        "id": "AmL-9Tj-v4-b"
      },
      "source": [
        "def simpson(x, h):\n",
        "    y = getY(x)\n",
        "    return h / 3 * (y[0] +\n",
        "                    sum([4 * y[i] for i in range(1, len(y) - 1, 2)]) +\n",
        "                    sum([2 * y[i] for i in range(2, len(y) - 2, 2)]) +\n",
        "                    y[len(y) - 1])"
      ],
      "execution_count": 55,
      "outputs": []
    },
    {
      "cell_type": "code",
      "metadata": {
        "id": "rU_8IMZdv5DG"
      },
      "source": [
        "def rungerombergerror(res):\n",
        "    f1 = res[0][0]\n",
        "    h1 = res[0][1]\n",
        "    f2 = res[1][0]\n",
        "    h2 = res[1][1]\n",
        "    k = max(h1/h2, h2/h1)\n",
        "    return abs(f1-f2)/(k**2 - 1)"
      ],
      "execution_count": 11,
      "outputs": []
    },
    {
      "cell_type": "markdown",
      "metadata": {
        "id": "KLCiHVAxwLLX"
      },
      "source": [
        "Вариант 17:\n",
        "$$\n",
        "y = \\frac{1}{254-x^4}\\\\\n",
        "X_0 = 0, X_k = 2, h_1 = 1.0, h_2 = 0.5\n",
        "$$\n",
        "\n",
        "\n",
        "Вычисленное значение определенного интеграла:\n",
        "$$\n",
        "\\dfrac{\\ln\\left(3\\right)+2\\arctan\\left(\\frac{1}{2}\\right)}{256}\n",
        "$$"
      ]
    },
    {
      "cell_type": "code",
      "metadata": {
        "id": "ZOjjozj5x10z"
      },
      "source": [
        "x0 = 0\n",
        "xn = 2\n",
        "h = [1.0, 0.5]\n",
        "true_value = (np.log(3) + 2*np.arctan(0.5))/256"
      ],
      "execution_count": 13,
      "outputs": []
    },
    {
      "cell_type": "code",
      "metadata": {
        "id": "CrYiEfwNzRVL"
      },
      "source": [
        "def printRes(method, methodName, h, x0, xn):\n",
        "    print('\\tМетод ' + methodName + ':')\n",
        "    res = []\n",
        "    for h_i in h:    \n",
        "        print('Шаг h =' + str(h_i))\n",
        "        x = getX(x0, xn, h_i)\n",
        "        y = getY(x)\n",
        "\n",
        "        \n",
        "        res_rec = method(x, h_i)\n",
        "        res.append([res_rec, h_i])\n",
        "        print(\"Значение интеграла = \" + str(res_rec))\n",
        "    return res, res_rec"
      ],
      "execution_count": 49,
      "outputs": []
    },
    {
      "cell_type": "code",
      "metadata": {
        "id": "0WFoDbeY10ER"
      },
      "source": [
        "def getErrors(res, res_rec, true_value):\n",
        "  print(\"\\nОшибка Рунге-Ромберга \" + str(rungerombergerror(res)))\n",
        "  print(\"Ошибка абсолютная = \" + str(abs(res_rec - true_value)))\n",
        "  print('\\n\\n')"
      ],
      "execution_count": 47,
      "outputs": []
    },
    {
      "cell_type": "code",
      "metadata": {
        "colab": {
          "base_uri": "https://localhost:8080/"
        },
        "id": "1IkqO1E5zkqL",
        "outputId": "6fc0a72e-0b3d-47ab-a78b-6c1e18bc2f04"
      },
      "source": [
        "res, res_rec = printRes(rectangle,\"rectangle\",h,x0,xn)\n",
        "getErrors(res, res_rec, true_value)"
      ],
      "execution_count": 50,
      "outputs": [
        {
          "output_type": "stream",
          "name": "stdout",
          "text": [
            "\tМетод rectangle:\n",
            "Шаг h =1.0\n",
            "Значение интеграла = 0.007892259947054468\n",
            "Шаг h =0.5\n",
            "Значение интеграла = 0.007908029175480238\n",
            "\n",
            "Ошибка Рунге-Ромберга 5.256409475256722e-06\n",
            "Ошибка абсолютная = 5.672022448362582e-06\n",
            "\n",
            "\n",
            "\n"
          ]
        }
      ]
    },
    {
      "cell_type": "code",
      "metadata": {
        "colab": {
          "base_uri": "https://localhost:8080/"
        },
        "id": "_WrlL-Lo3yc2",
        "outputId": "984c381c-fbd4-44c9-c722-949e76f8f4c8"
      },
      "source": [
        "res, res_rec = printRes(trapeze,\"trapeze\",h,x0,xn)\n",
        "getErrors(res, res_rec, true_value)"
      ],
      "execution_count": 53,
      "outputs": [
        {
          "output_type": "stream",
          "name": "stdout",
          "text": [
            "\tМетод trapeze:\n",
            "Шаг h =1.0\n",
            "Значение интеграла = 0.004036458333333333\n",
            "Шаг h =0.5\n",
            "Значение интеграла = 0.00593261543399411\n",
            "\n",
            "Ошибка Рунге-Ромберга 0.0006320523668869258\n",
            "Ошибка абсолютная = 0.001981085763934491\n",
            "\n",
            "\n",
            "\n"
          ]
        }
      ]
    },
    {
      "cell_type": "code",
      "metadata": {
        "colab": {
          "base_uri": "https://localhost:8080/"
        },
        "id": "GOBkjFJ43yul",
        "outputId": "0becbbe0-4bed-43bd-ac85-285fed943b96"
      },
      "source": [
        "res, res_rec = printRes(simpson,\"simpson\",h,x0,xn)\n",
        "getErrors(res, res_rec, true_value)"
      ],
      "execution_count": 56,
      "outputs": [
        {
          "output_type": "stream",
          "name": "stdout",
          "text": [
            "\tМетод simpson:\n",
            "Шаг h =1.0\n",
            "Значение интеграла = 0.007919730392156862\n",
            "Шаг h =0.5\n",
            "Значение интеграла = 0.007914182284964415\n",
            "\n",
            "Ошибка Рунге-Ромберга 1.8493690641489813e-06\n",
            "Ошибка абсолютная = 4.81087035814412e-07\n",
            "\n",
            "\n",
            "\n"
          ]
        }
      ]
    }
  ]
}
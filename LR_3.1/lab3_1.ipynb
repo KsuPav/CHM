{
  "nbformat": 4,
  "nbformat_minor": 0,
  "metadata": {
    "colab": {
      "name": "lab3_1.ipynb",
      "provenance": [],
      "collapsed_sections": []
    },
    "kernelspec": {
      "name": "python3",
      "display_name": "Python 3"
    },
    "language_info": {
      "name": "python"
    }
  },
  "cells": [
    {
      "cell_type": "markdown",
      "metadata": {
        "id": "LiEtpiilruVQ"
      },
      "source": [
        "# Лабораторная работа 3, задача 1, вариант 17"
      ]
    },
    {
      "cell_type": "code",
      "metadata": {
        "id": "sBqGm3WLrgwC"
      },
      "source": [
        "import numpy as np\n",
        "import matplotlib.pyplot as plt"
      ],
      "execution_count": null,
      "outputs": []
    },
    {
      "cell_type": "markdown",
      "metadata": {
        "id": "jLdxcACYyHks"
      },
      "source": [
        "Вариант 17:\n",
        "$$\n",
        "y=e^x+x\\\\\n",
        "a)X_i = -2,-1,0,1\\\\\n",
        "б)X_i = -2,-1,0,2,2\\\\\n",
        "X^* = -0.5\n",
        "$$"
      ]
    },
    {
      "cell_type": "code",
      "metadata": {
        "id": "bVXh9EVVrzDt"
      },
      "source": [
        "def function(x):\n",
        "    return np.exp(x) + x"
      ],
      "execution_count": null,
      "outputs": []
    },
    {
      "cell_type": "code",
      "metadata": {
        "id": "AJ9E0WAqrzf3"
      },
      "source": [
        "# вычисление произведения элементов в методе Лагранжа\n",
        "def multiplyLagrange(x0, x, n, index):\n",
        "    \n",
        "    multiply = 1\n",
        "    \n",
        "    for i in range(0, n):\n",
        "        if index != i:\n",
        "            multiply = multiply * (x0 - x[i])/(x[index] - x[i])\n",
        "    \n",
        "    return multiply"
      ],
      "execution_count": null,
      "outputs": []
    },
    {
      "cell_type": "code",
      "metadata": {
        "id": "z9cZe8XHrzoR"
      },
      "source": [
        "# вычисление произведения элементов в методе Ньютона\n",
        "def multiplyNewton(x0, x, n):\n",
        "    multiply = 1\n",
        "\n",
        "    for i in range(0, n):\n",
        "            multiply = multiply * (x0 - x[i])\n",
        "\n",
        "    return multiply"
      ],
      "execution_count": null,
      "outputs": []
    },
    {
      "cell_type": "code",
      "metadata": {
        "id": "WB9whGfqrzui"
      },
      "source": [
        "def polynomOfLagrange(x0, x, n):\n",
        "    summary = 0\n",
        "    for i in range(0, n):\n",
        "        summary = summary + function(x[i]) * multiplyLagrange(x0, x, n, i)\n",
        "    \n",
        "    return summary"
      ],
      "execution_count": null,
      "outputs": []
    },
    {
      "cell_type": "code",
      "metadata": {
        "id": "OD6cRc6krzzw"
      },
      "source": [
        "def divideddifference(x, n):\n",
        "    if n > 2:\n",
        "        x1 = np.zeros(n-1)\n",
        "        x2 = np.zeros(n-1)\n",
        "        for i in range(0, n):\n",
        "            if i != n - 1:\n",
        "                x1[i] = x[i]\n",
        "            if i != 0:\n",
        "                x2[i - 1] = x[i]\n",
        "        return (divideddifference(x1, n - 1) - divideddifference(x2, n - 1)) / (x[0] - x[n - 1])\n",
        "\n",
        "    if n == 2:\n",
        "        return (function(x[0]) - function(x[1])) / (x[0] - x[1])\n",
        "    if n == 1:\n",
        "        return function(x[0])"
      ],
      "execution_count": null,
      "outputs": []
    },
    {
      "cell_type": "code",
      "metadata": {
        "id": "q6j-7mUvrz5M"
      },
      "source": [
        "def polynomOfNewton(x0, x, n):\n",
        "\n",
        "    summary = 0\n",
        "    for i in range(0, n):\n",
        "        dd = divideddifference(x, i+1)\n",
        "        summary = summary + dd * multiplyNewton(x0, x, i)\n",
        "    \n",
        "    return summary"
      ],
      "execution_count": null,
      "outputs": []
    },
    {
      "cell_type": "code",
      "metadata": {
        "id": "8i3nma5Nyn3C"
      },
      "source": [
        "x0 = -0.5\n",
        "x = [[-2, -1, 0, 1],[-2, -1, 0, 1, 2]]"
      ],
      "execution_count": null,
      "outputs": []
    },
    {
      "cell_type": "code",
      "metadata": {
        "colab": {
          "base_uri": "https://localhost:8080/"
        },
        "id": "5sDHUOqHy_Ck",
        "outputId": "f31cdb17-a9ef-4dff-e648-430e1e6bdfb1"
      },
      "source": [
        "print(\"Получим ошибки в точке X* для метода Лагранжа:\")\n",
        "for x_ in x:\n",
        "  lagr = polynomOfLagrange(x0, x_, len(x_))\n",
        "\n",
        "  print(\"L\" + str(len(x_) - 1) + \"(\" + str(x0) + \") = \" + str(lagr))\n",
        "\n",
        "  print(\"y(\" + str(x0) + \") = \" + str(function(x0)))\n",
        "  print(\"Ошибка = \" + str(abs(function(x0) - lagr)))"
      ],
      "execution_count": null,
      "outputs": [
        {
          "output_type": "stream",
          "name": "stdout",
          "text": [
            "Получим ошибки в точке X* для метода Лагранжа:\n",
            "L3(-0.5) = 0.09108111617795775\n",
            "y(-0.5) = 0.10653065971263342\n",
            "Ошибка = 0.015449543534675675\n",
            "L4(-0.5) = 0.11873142016964466\n",
            "y(-0.5) = 0.10653065971263342\n",
            "Ошибка = 0.01220076045701124\n"
          ]
        }
      ]
    },
    {
      "cell_type": "code",
      "metadata": {
        "id": "N27DItPq1CNi"
      },
      "source": [
        "test = np.linspace(-2, 2, 10)\n",
        "y_lagr = np.zeros(len(test))\n",
        "for i in range(0, len(test)):\n",
        "    y_lagr[i] = polynomOfLagrange(test[i], xa, n)"
      ],
      "execution_count": null,
      "outputs": []
    },
    {
      "cell_type": "code",
      "metadata": {
        "colab": {
          "base_uri": "https://localhost:8080/",
          "height": 265
        },
        "id": "7tbhVCEE0Dib",
        "outputId": "296568af-d4f9-44b0-dfa2-c82b05d432e5"
      },
      "source": [
        "fig, ax = plt.subplots()\n",
        "ax.plot(test, y_lagr)\n",
        "ax.plot(test, function(test))\n",
        "ax.legend([\"Полином Лагранжа\",\"$e^x+x$\"])\n",
        "plt.xlim()\n",
        "plt.show()"
      ],
      "execution_count": null,
      "outputs": [
        {
          "output_type": "display_data",
          "data": {
            "image/png": "[encoded data removed]",
            "text/plain": [
              "<Figure size 432x288 with 1 Axes>"
            ]
          },
          "metadata": {
            "needs_background": "light"
          }
        }
      ]
    },
    {
      "cell_type": "code",
      "metadata": {
        "colab": {
          "base_uri": "https://localhost:8080/"
        },
        "id": "GPd9rlfk21bM",
        "outputId": "110e23ce-1821-4dae-adb0-0d004d09d098"
      },
      "source": [
        "print(\"Получим ошибки в точке X* для метода Ньютона:\")\n",
        "for x_ in x:\n",
        "  newton = polynomOfNewton(x0, x_, len(x_))\n",
        "\n",
        "  y_newt = np.zeros(len(test))\n",
        "  for i in range(0, len(test)):\n",
        "      y_newt[i] = polynomofnewton(test[i], x_, len(x_))\n",
        "\n",
        "  print(\"P\" + str(len(x_) - 1) + \"(\" + str(x0) + \") = \" + str(newton))\n",
        "  print(\"y(\" + str(x0) + \") = \" + str(function(x0)))\n",
        "\n",
        "  print(\"Interpolation error = \" + str(abs(function(x0) - newton)))"
      ],
      "execution_count": null,
      "outputs": [
        {
          "output_type": "stream",
          "name": "stdout",
          "text": [
            "Получим ошибки в точке X* для метода Ньютона:\n",
            "P3(-0.5) = 0.0910811161779577\n",
            "y(-0.5) = 0.10653065971263342\n",
            "Interpolation error = 0.01544954353467573\n",
            "P4(-0.5) = 0.11873142016964475\n",
            "y(-0.5) = 0.10653065971263342\n",
            "Interpolation error = 0.012200760457011323\n"
          ]
        }
      ]
    },
    {
      "cell_type": "code",
      "metadata": {
        "colab": {
          "base_uri": "https://localhost:8080/",
          "height": 265
        },
        "id": "qxBE4Qnurz9_",
        "outputId": "bf145a7f-6720-4449-a620-08ac9167b3ce"
      },
      "source": [
        "fig, ax = plt.subplots()\n",
        "ax.plot(test, y_newt)\n",
        "ax.plot(test, function(test))\n",
        "ax.legend([\"Полином Ньютона\", \"$e^x+x$\"])\n",
        "plt.show()"
      ],
      "execution_count": null,
      "outputs": [
        {
          "output_type": "display_data",
          "data": {
            "image/png": "[encoded data removed]",
            "text/plain": [
              "<Figure size 432x288 with 1 Axes>"
            ]
          },
          "metadata": {
            "needs_background": "light"
          }
        }
      ]
    },
    {
      "cell_type": "code",
      "metadata": {
        "id": "EsYWGRg1r0CZ"
      },
      "source": [
        ""
      ],
      "execution_count": null,
      "outputs": []
    },
    {
      "cell_type": "code",
      "metadata": {
        "id": "NfsQ1au6r0G1"
      },
      "source": [
        ""
      ],
      "execution_count": null,
      "outputs": []
    },
    {
      "cell_type": "code",
      "metadata": {
        "id": "pCJUYQwrr0LR"
      },
      "source": [
        ""
      ],
      "execution_count": null,
      "outputs": []
    },
    {
      "cell_type": "code",
      "metadata": {
        "id": "0KOqhlvZr0Pt"
      },
      "source": [
        ""
      ],
      "execution_count": null,
      "outputs": []
    },
    {
      "cell_type": "code",
      "metadata": {
        "id": "cLTMe6MPr0UI"
      },
      "source": [
        ""
      ],
      "execution_count": null,
      "outputs": []
    },
    {
      "cell_type": "code",
      "metadata": {
        "id": "lnLLc21tr0Yk"
      },
      "source": [
        ""
      ],
      "execution_count": null,
      "outputs": []
    },
    {
      "cell_type": "code",
      "metadata": {
        "id": "VBb8iCCNr0di"
      },
      "source": [
        ""
      ],
      "execution_count": null,
      "outputs": []
    },
    {
      "cell_type": "code",
      "metadata": {
        "id": "F43aLIq6r0hz"
      },
      "source": [
        ""
      ],
      "execution_count": null,
      "outputs": []
    }
  ]
}
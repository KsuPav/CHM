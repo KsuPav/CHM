{
  "nbformat": 4,
  "nbformat_minor": 0,
  "metadata": {
    "colab": {
      "name": "lab2_1.ipynb",
      "provenance": []
    },
    "kernelspec": {
      "name": "python3",
      "display_name": "Python 3"
    },
    "language_info": {
      "name": "python"
    }
  },
  "cells": [
    {
      "cell_type": "code",
      "metadata": {
        "id": "u8FtMO-arfaM"
      },
      "source": [
        "import math\n",
        "import numpy as np\n",
        "import matplotlib.pyplot as plt"
      ],
      "execution_count": 1,
      "outputs": []
    },
    {
      "cell_type": "markdown",
      "metadata": {
        "id": "3jODmzhYsroS"
      },
      "source": [
        "Вариант 17:\n",
        "$$4^x-5x-2=0$$"
      ]
    },
    {
      "cell_type": "code",
      "metadata": {
        "id": "i2K1Yx5yr8kd"
      },
      "source": [
        "def f(x):\n",
        "    return 4**x-5*x-2"
      ],
      "execution_count": 43,
      "outputs": []
    },
    {
      "cell_type": "code",
      "metadata": {
        "id": "gB5-nB26r-QY"
      },
      "source": [
        "def df(x):\n",
        "    return np.log(4)*np.float_power(4,x) - 5"
      ],
      "execution_count": 35,
      "outputs": []
    },
    {
      "cell_type": "code",
      "metadata": {
        "id": "Bo-wXEp3r_8z"
      },
      "source": [
        "def ddf(x):\n",
        "    return np.log(4)**2*np.float_power(4,x)"
      ],
      "execution_count": 36,
      "outputs": []
    },
    {
      "cell_type": "code",
      "metadata": {
        "id": "_eBeX4rEsBEt"
      },
      "source": [
        "def phi(x):\n",
        "    return (np.float_power(4,x)-2)/5"
      ],
      "execution_count": 37,
      "outputs": []
    },
    {
      "cell_type": "code",
      "metadata": {
        "id": "qDmvWs_ZsCE8"
      },
      "source": [
        "def dphi(x):\n",
        "    return np.log(4)*np.float_power(4,x)/5"
      ],
      "execution_count": 38,
      "outputs": []
    },
    {
      "cell_type": "code",
      "metadata": {
        "id": "GuBg2eRasEFb"
      },
      "source": [
        "def simpleIteration(phi, dphi, a, b, eps=0.001):\n",
        "    q = max(abs(dphi(a)), abs(dphi(b)))\n",
        "    x = (a + b) / 2\n",
        "    k = 0\n",
        "    go = True\n",
        "    if q < 1:\n",
        "        print(f'q = {q} < 1')\n",
        "    else:\n",
        "        return\n",
        "    while go:\n",
        "        k += 1\n",
        "        x_cur = phi(x)\n",
        "\n",
        "        print(f'x: {x_cur}, k: {k}, q/(1-q)*|x_cur - x|: {q * abs(x_cur - x) / (1 - q)}')\n",
        "        if (q * abs(x_cur - x) / (1 - q)) <= eps:\n",
        "            go = False\n",
        "\n",
        "        x = x_cur\n",
        "        if k == 1000:\n",
        "            break\n",
        "    return x_cur"
      ],
      "execution_count": 47,
      "outputs": []
    },
    {
      "cell_type": "code",
      "metadata": {
        "id": "lGk0JDL7sFgM"
      },
      "source": [
        "def newton(f, df, x0, eps=0.001):\n",
        "    x = x0\n",
        "    k = 0\n",
        "    go = True\n",
        "    while go:\n",
        "        k += 1\n",
        "        x_cur = x - f(x) / df(x)\n",
        "        print(f'x: {x_cur}, k: {k}, |x_cur - x|: {abs(x_cur - x)}')\n",
        "        if abs(x_cur - x) <= eps:\n",
        "            go = False\n",
        "\n",
        "        x = x_cur"
      ],
      "execution_count": 8,
      "outputs": []
    },
    {
      "cell_type": "code",
      "metadata": {
        "id": "XpT1V2QtsG9D"
      },
      "source": [
        "def show(f, df, x, step = 0.5, ddf = None):\n",
        "    X = np.arange(x[0], x[-1], step)\n",
        "    Y = [f(i) for i in X]\n",
        "    dY = [df(i) for i in X]\n",
        "\n",
        "    if ddf:\n",
        "        ddY = [ddf(i) for i in X]\n",
        "\n",
        "    fig, axis = plt.subplots()\n",
        "    axis.plot(X, Y, label='f')\n",
        "    axis.plot(X, dY, label='df')\n",
        "\n",
        "    if ddf:\n",
        "        axis.plot(X, ddY, label='ddf')\n",
        "\n",
        "    axis.legend(loc='upper right')\n",
        "    axis.grid()\n",
        "\n",
        "    plt.show()"
      ],
      "execution_count": 10,
      "outputs": []
    },
    {
      "cell_type": "markdown",
      "metadata": {
        "id": "rJSqcNgF1pxY"
      },
      "source": [
        "# Метод простых итераций"
      ]
    },
    {
      "cell_type": "code",
      "metadata": {
        "colab": {
          "base_uri": "https://localhost:8080/",
          "height": 269
        },
        "id": "RPJXCcPwuEhY",
        "outputId": "78f58852-4d28-440b-d442-e27206c93cb2"
      },
      "source": [
        "x = np.linspace(-3,5,100)\n",
        "plt.plot(x,phi(x))\n",
        "plt.plot(x,x)\n",
        "plt.plot(x,dphi(x),linestyle='dashed')\n",
        "plt.ylim(-2,2)\n",
        "plt.legend(['phi','x','dphi'])\n",
        "plt.show()"
      ],
      "execution_count": 39,
      "outputs": [
        {
          "output_type": "display_data",
          "data": {
            "image/png": "[encoded data removed]",
            "text/plain": [
              "<Figure size 432x288 with 1 Axes>"
            ]
          },
          "metadata": {
            "needs_background": "light"
          }
        }
      ]
    },
    {
      "cell_type": "markdown",
      "metadata": {
        "id": "6-8AhaKywI6w"
      },
      "source": [
        "Будем искать решение на отрезке [-1,0], так как выполнено условие существовании и дифференцируемости phi и:\n",
        "$$ \\exists q:|\\phi'(x)| \\leq q < 1$$"
      ]
    },
    {
      "cell_type": "code",
      "metadata": {
        "colab": {
          "base_uri": "https://localhost:8080/"
        },
        "id": "5RNrxdKPuDMZ",
        "outputId": "cd4885e0-dcb8-4d6b-a9ad-332afe27e6d8"
      },
      "source": [
        "print(\"Simple iteration:\")\n",
        "x_SI = simpleIteration(phi, dphi, -1, 0, eps = 0.0000001)"
      ],
      "execution_count": 48,
      "outputs": [
        {
          "output_type": "stream",
          "name": "stdout",
          "text": [
            "Simple iteration:\n",
            "q = 0.2772588722239781 < 1\n",
            "x: -0.3, k: 1, q/(1-q)*|x_cur - x|: 0.07672425480396929\n",
            "x: -0.26804920892271056, k: 2, q/(1-q)*|x_cur - x|: 0.012257003179011712\n",
            "x: -0.26207331722786337, k: 3, q/(1-q)*|x_cur - x|: 0.0022924791853818987\n",
            "x: -0.26092593893197147, k: 4, q/(1-q)*|x_cur - x|: 0.00044015872365277053\n",
            "x: -0.2607045511420817, k: 5, q/(1-q)*|x_cur - x|: 8.492906600995625e-05\n",
            "x: -0.2606617936036601, k: 6, q/(1-q)*|x_cur - x|: 1.6402701363242687e-05\n",
            "x: -0.26065353415156534, k: 7, q/(1-q)*|x_cur - x|: 3.168501535298095e-06\n",
            "x: -0.2606519386209567, k: 8, q/(1-q)*|x_cur - x|: 6.120794848216399e-07\n",
            "x: -0.26065163040011063, k: 9, q/(1-q)*|x_cur - x|: 1.1824007364810977e-07\n",
            "x: -0.26065157085865476, k: 10, q/(1-q)*|x_cur - x|: 2.2841369160466985e-08\n"
          ]
        }
      ]
    },
    {
      "cell_type": "code",
      "metadata": {
        "colab": {
          "base_uri": "https://localhost:8080/"
        },
        "id": "SE8HS2zSwsGO",
        "outputId": "8568c94e-20de-490d-a2a0-08718f2f2e04"
      },
      "source": [
        "print(\"The value of the function at the found point:\")\n",
        "f(x_SI)"
      ],
      "execution_count": 49,
      "outputs": [
        {
          "output_type": "stream",
          "name": "stdout",
          "text": [
            "The value of the function at the found point:\n"
          ]
        },
        {
          "output_type": "execute_result",
          "data": {
            "text/plain": [
              "5.7510481710210115e-08"
            ]
          },
          "metadata": {},
          "execution_count": 49
        }
      ]
    },
    {
      "cell_type": "markdown",
      "metadata": {
        "id": "9LaNVoZT1lCY"
      },
      "source": [
        "# Метод Нютона"
      ]
    },
    {
      "cell_type": "code",
      "metadata": {
        "colab": {
          "base_uri": "https://localhost:8080/",
          "height": 269
        },
        "id": "jYB4AOAax-Y-",
        "outputId": "4e651661-2eb7-4104-e6b6-76b8cff73f6a"
      },
      "source": [
        "x = np.linspace(-3,5,100)\n",
        "plt.plot(x,f(x))\n",
        "plt.plot(x,df(x))\n",
        "plt.plot(x,ddf(x))\n",
        "plt.xlim(-3,5)\n",
        "plt.ylim(-10,10)\n",
        "plt.hlines(0,-4,10,color='grey')\n",
        "plt.legend(['f','df','ddf'])\n",
        "plt.show()"
      ],
      "execution_count": 61,
      "outputs": [
        {
          "output_type": "display_data",
          "data": {
            "image/png": "[encoded data removed]",
            "text/plain": [
              "<Figure size 432x288 with 1 Axes>"
            ]
          },
          "metadata": {
            "needs_background": "light"
          }
        }
      ]
    },
    {
      "cell_type": "markdown",
      "metadata": {
        "id": "iC1f7HH4zCL1"
      },
      "source": [
        "Решение будем искать на отрезке [-1,0], так как выполняются условия наличия корня:\n",
        "$$f(-1)*f(0)<0\\\\x^0=-0.5: f(x^0)*f''(x^0)>0 \n",
        "$$"
      ]
    },
    {
      "cell_type": "code",
      "metadata": {
        "colab": {
          "base_uri": "https://localhost:8080/"
        },
        "id": "ApVPLNHHsJf_",
        "outputId": "483bd2fd-0d41-46b0-eeb9-58904f20de88"
      },
      "source": [
        "print(\"Newton method:\")\n",
        "x0 = -0.5\n",
        "newton(f, df, x0, 0.0000001)"
      ],
      "execution_count": 64,
      "outputs": [
        {
          "output_type": "stream",
          "name": "stdout",
          "text": [
            "Newton method:\n",
            "x: -0.26781189376004433, k: 1, |x_cur - x|: 0.23218810623995567\n",
            "x: -0.26065998943748053, k: 2, |x_cur - x|: 0.007151904322563796\n",
            "x: -0.26065155661440526, k: 3, |x_cur - x|: 8.432823075277263e-06\n",
            "x: -0.26065155660260353, k: 4, |x_cur - x|: 1.1801726262916645e-11\n"
          ]
        }
      ]
    }
  ]
}
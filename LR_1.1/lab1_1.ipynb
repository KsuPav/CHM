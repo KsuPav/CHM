{
  "nbformat": 4,
  "nbformat_minor": 0,
  "metadata": {
    "colab": {
      "name": "lab1_1.ipynb",
      "provenance": [],
      "collapsed_sections": []
    },
    "kernelspec": {
      "display_name": "Python 3",
      "name": "python3"
    },
    "language_info": {
      "name": "python"
    }
  },
  "cells": [
    {
      "cell_type": "markdown",
      "metadata": {
        "id": "wfIuNe8YD4I5"
      },
      "source": [
        "# Лабораторная работа 1, задача 1, вариант 17"
      ]
    },
    {
      "cell_type": "markdown",
      "metadata": {
        "id": "TNTEofKwEJn3"
      },
      "source": [
        "функция алгебраического дополнения"
      ]
    },
    {
      "cell_type": "code",
      "metadata": {
        "id": "DZW7hFlGar0A"
      },
      "source": [
        "import sys\n",
        "sys.path.append('/content/drive/MyDrive')"
      ],
      "execution_count": 144,
      "outputs": []
    },
    {
      "cell_type": "code",
      "metadata": {
        "id": "7UVJ82y2ZEAp"
      },
      "source": [
        "import lab11"
      ],
      "execution_count": 145,
      "outputs": []
    },
    {
      "cell_type": "markdown",
      "metadata": {
        "id": "DDkFmNsxLKzj"
      },
      "source": [
        "$$\n",
        "\\begin{equation*}\n",
        " \\begin{cases}\n",
        "   8⋅x_1+8⋅x_2-5⋅x_3-8⋅x_4=13\\\\\n",
        "   8⋅x_1-5⋅x_2+9⋅x_3-8⋅x_4=38\\\\\n",
        "   5⋅x_1-4⋅x_2-6⋅x_3-2⋅x_4=14\\\\\n",
        "   8⋅x_1+3⋅x_2+6⋅x_3+6⋅x_4=-95\n",
        " \\end{cases}\n",
        "\\end{equation*}\n",
        "$$"
      ]
    },
    {
      "cell_type": "code",
      "metadata": {
        "id": "IMSQfgpHNPKo"
      },
      "source": [
        "# вариант 17\n",
        "n = 4\n",
        "a = [[8, 8, -5, -8], [8, -5, 9, -8], [5, -4, -6, -2], [8, 3, 6, 6]]\n",
        "b = [13, 38, 14, -95]"
      ],
      "execution_count": 148,
      "outputs": []
    },
    {
      "cell_type": "code",
      "metadata": {
        "colab": {
          "base_uri": "https://localhost:8080/"
        },
        "id": "Td4i10IcNQ-P",
        "outputId": "f5263b25-7f70-420e-f99e-75c2c41ef113"
      },
      "source": [
        "print(\"Начальная матрица:\")\n",
        "show(a,n)"
      ],
      "execution_count": 150,
      "outputs": [
        {
          "output_type": "stream",
          "name": "stdout",
          "text": [
            "Начальная матрица:\n",
            "  8    8    -5    -8  \n",
            "\n",
            "  8    -5    9    -8  \n",
            "\n",
            "  5    -4    -6    -2  \n",
            "\n",
            "  8    3    6    6  \n",
            "\n"
          ]
        }
      ]
    },
    {
      "cell_type": "code",
      "metadata": {
        "colab": {
          "base_uri": "https://localhost:8080/"
        },
        "id": "q1ewpuYMNqQZ",
        "outputId": "bf938276-cb29-478e-91b0-34bbe07f0161"
      },
      "source": [
        "adj = adjoin(a, n)\n",
        "print(\"Сопряженная матрица :\\n\")\n",
        "show(adj, n)"
      ],
      "execution_count": 151,
      "outputs": [
        {
          "output_type": "stream",
          "name": "stdout",
          "text": [
            "Сопряженная матрица :\n",
            "\n",
            "  330    234    1242    1166  \n",
            "\n",
            "  1230    -586    -1568    336  \n",
            "\n",
            "  -290    888    -1456    312  \n",
            "\n",
            "  -765    -907    584    1307  \n",
            "\n"
          ]
        }
      ]
    },
    {
      "cell_type": "code",
      "metadata": {
        "colab": {
          "base_uri": "https://localhost:8080/"
        },
        "id": "6r6yVQ0GNyHi",
        "outputId": "bc806ee6-a5bf-4730-88c5-f938839e10f2"
      },
      "source": [
        "inv = [[0] * n for _ in range(n)]\n",
        "\n",
        "print(\"Обратная матрица :\\n\")\n",
        "if inverse(a, inv, n):\n",
        "    show(roundMatrix(inv,5), n)"
      ],
      "execution_count": 139,
      "outputs": [
        {
          "output_type": "stream",
          "name": "stdout",
          "text": [
            "Обратная матрица :\n",
            "\n",
            "  0.01646    0.01167    0.06195    0.05815  \n",
            "\n",
            "  0.06135    -0.02923    -0.0782    0.01676  \n",
            "\n",
            "  -0.01446    0.04429    -0.07262    0.01556  \n",
            "\n",
            "  -0.03815    -0.04524    0.02913    0.06519  \n",
            "\n"
          ]
        }
      ]
    },
    {
      "cell_type": "code",
      "metadata": {
        "colab": {
          "base_uri": "https://localhost:8080/"
        },
        "id": "iPr5MTQtN6B5",
        "outputId": "7a05ac64-1fc7-43c7-ad78-868a633ce41d"
      },
      "source": [
        "pi = lupdecompose(a, n)\n",
        "print(\"Матрица А после LUP преобразования:\")\n",
        "show(roundMatrix(a,3), n)"
      ],
      "execution_count": 140,
      "outputs": [
        {
          "output_type": "stream",
          "name": "stdout",
          "text": [
            "Матрица А после LUP преобразования:\n",
            "  8    8    -5    -8  \n",
            "\n",
            "  1.0    -13.0    14.0    0.0  \n",
            "\n",
            "  0.625    0.692    -12.567    3.0  \n",
            "\n",
            "  1.0    0.385    -0.447    15.34  \n",
            "\n"
          ]
        }
      ]
    },
    {
      "cell_type": "code",
      "metadata": {
        "colab": {
          "base_uri": "https://localhost:8080/"
        },
        "id": "z2LjLQG0O4lP",
        "outputId": "3ad793d8-a261-47db-9fe9-21935a4573ad"
      },
      "source": [
        "l, u = get_lu(a)\n",
        "print(\"матрица l:\")\n",
        "show(roundMatrix(l,3), n)\n",
        "print(\"матрица u:\")\n",
        "show(roundMatrix(u,3), n)"
      ],
      "execution_count": 141,
      "outputs": [
        {
          "output_type": "stream",
          "name": "stdout",
          "text": [
            "матрица l:\n",
            "  1    0    0    0  \n",
            "\n",
            "  1.0    1    0    0  \n",
            "\n",
            "  0.625    0.692    1    0  \n",
            "\n",
            "  1.0    0.385    -0.447    1  \n",
            "\n",
            "матрица u:\n",
            "  8    8    -5    -8  \n",
            "\n",
            "  0    -13.0    14.0    0.0  \n",
            "\n",
            "  0    0    -12.567    3.0  \n",
            "\n",
            "  0    0    0    15.34  \n",
            "\n"
          ]
        }
      ]
    },
    {
      "cell_type": "markdown",
      "metadata": {
        "id": "A9vdYEUfPVCF"
      },
      "source": [
        "Проверяем, что разложение верное, перемножая L и U: $$A = LU$$"
      ]
    },
    {
      "cell_type": "code",
      "metadata": {
        "colab": {
          "base_uri": "https://localhost:8080/"
        },
        "id": "TxFXjBVePTuR",
        "outputId": "1746d144-d3bd-409c-e281-db9451fb568a"
      },
      "source": [
        "print(\"a:\\n\")\n",
        "r = multi(l, u)\n",
        "show(r, n)"
      ],
      "execution_count": 142,
      "outputs": [
        {
          "output_type": "stream",
          "name": "stdout",
          "text": [
            "a:\n",
            "\n",
            "  8    8.0    -5.0    -8.0  \n",
            "\n",
            "  8.0    -5.0    9.0    -8.0  \n",
            "\n",
            "  5.0    -4.0    -6.0    -2.0  \n",
            "\n",
            "  8.0    3.0    6.0    6.0  \n",
            "\n"
          ]
        }
      ]
    },
    {
      "cell_type": "markdown",
      "metadata": {
        "id": "2b75f2KbPi5f"
      },
      "source": [
        "Результат решения слау:"
      ]
    },
    {
      "cell_type": "code",
      "metadata": {
        "colab": {
          "base_uri": "https://localhost:8080/"
        },
        "id": "QdGwm2IuFWsa",
        "outputId": "e7c0b9fe-d405-4da6-d093-a8f423366323"
      },
      "source": [
        "print(lup_solve(l, u, pi, b, n))"
      ],
      "execution_count": 143,
      "outputs": [
        {
          "output_type": "stream",
          "name": "stdout",
          "text": [
            "[-4.0, -3.0, -1.0, -8.0]\n"
          ]
        }
      ]
    }
  ]
}
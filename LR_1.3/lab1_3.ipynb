{
  "nbformat": 4,
  "nbformat_minor": 0,
  "metadata": {
    "colab": {
      "name": "lab1_3.ipynb",
      "provenance": [],
      "collapsed_sections": []
    },
    "kernelspec": {
      "name": "python3",
      "display_name": "Python 3"
    },
    "language_info": {
      "name": "python"
    }
  },
  "cells": [
    {
      "cell_type": "markdown",
      "metadata": {
        "id": "WYlNTocY5G6q"
      },
      "source": [
        "Лабораторная работа 1, задача 3, вариант 17"
      ]
    },
    {
      "cell_type": "code",
      "metadata": {
        "id": "3C1QMvKy6M21"
      },
      "source": [
        "import copy\n",
        "from math import sqrt\n",
        "import numpy as np"
      ],
      "execution_count": 1,
      "outputs": []
    },
    {
      "cell_type": "code",
      "metadata": {
        "id": "5vb_kNh85FET"
      },
      "source": [
        "def seidel(a, b, eps):\n",
        "    n = len(a)\n",
        "    beta = [0 for _ in range(n)]\n",
        "\n",
        "    for i in range(n):\n",
        "        beta[i] = b[i] / a[i][i]\n",
        "\n",
        "    x = [beta[i] for i in range(n)]\n",
        "\n",
        "    stop = False\n",
        "    count = 0\n",
        "    while not stop:\n",
        "        x_new = copy.deepcopy(x)\n",
        "        print(\"Iteration\", count, \"ans \", x)\n",
        "        for i in range(n):\n",
        "            tmp_1 = 0\n",
        "            tmp_2 = 0\n",
        "            for j in range(i):\n",
        "                tmp_1 += a[i][j] * x_new[j] # Sum for x_(k+1)\n",
        "            for j in range(i+1, n):\n",
        "                tmp_2 += x[j] * a[i][j] # Sum for x_k\n",
        "\n",
        "            x_new[i] = (b[i] - tmp_1 - tmp_2) / a[i][i]\n",
        "\n",
        "        stop = sqrt(sum((x_new[i] - x[i]) ** 2 for i in range(n))) <= eps\n",
        "        if not stop:\n",
        "            x = x_new\n",
        "        count = count + 1\n",
        "\n",
        "    x = [round(x[i], 4) for i in range(n)]\n",
        "    return x"
      ],
      "execution_count": 2,
      "outputs": []
    },
    {
      "cell_type": "code",
      "metadata": {
        "id": "4rfDjHyi6i_K"
      },
      "source": [
        "def simpleIteration(a, b, eps):\n",
        "    n = len(b)\n",
        "    beta = np.zeros(n)\n",
        "    alpha = np.zeros((n, n))\n",
        "    x = np.zeros(n)\n",
        "    dx = np.zeros(n)\n",
        "    #приводим систему к эквивалентному виду\n",
        "    for i in range(n):\n",
        "        beta[i] = b[i] / a[i][i]\n",
        "        for j in range(n):\n",
        "            if i != j:\n",
        "                alpha[i][j] = - a[i][j] / a[i][i]\n",
        "            else:\n",
        "                alpha[i][j] = 0\n",
        "        x[i] = beta[i]\n",
        "        dx[i] = beta[i]\n",
        "\n",
        "    # запускаем процесс, пока не выполнено условие останова\n",
        "    norm = 1\n",
        "    norma_a = m_norm(n, alpha)\n",
        "    count = 0\n",
        "    while abs(norm) > eps:\n",
        "        count = count + 1\n",
        "        x = mv_mult(alpha, x)\n",
        "        x = v_sum(x, beta)\n",
        "        dx = v_minus(dx, x)\n",
        "        norm = norma_a * v_norm(dx)/(1-norma_a)\n",
        "        dx = x\n",
        "\n",
        "    print(f\"Решение найдено на итерации {count-1}:\")\n",
        "    print(x)"
      ],
      "execution_count": 3,
      "outputs": []
    },
    {
      "cell_type": "code",
      "metadata": {
        "id": "yAERRSEs6QnJ"
      },
      "source": [
        "def matrixsum(a, b):\n",
        "    out = [[0] * len(a[0]) for _ in range(len(a))]\n",
        "    for i in range(len(a)):\n",
        "        for j in range(len(a[0])):\n",
        "            out[i][j] = a[i][j] + b[i][j]\n",
        "    return out"
      ],
      "execution_count": 4,
      "outputs": []
    },
    {
      "cell_type": "code",
      "metadata": {
        "id": "TiWd83PB6RGj"
      },
      "source": [
        "def mv_mult(matrix, vector):\n",
        "    size = len(vector)\n",
        "    r = np.zeros(size)\n",
        "    for i in range(size):\n",
        "        for j in range(size):\n",
        "            r[i] = r[i] + matrix[i][j] * vector[j]\n",
        "    return r"
      ],
      "execution_count": 5,
      "outputs": []
    },
    {
      "cell_type": "code",
      "metadata": {
        "id": "BQTzCydF6RN6"
      },
      "source": [
        "def norma(x, y):\n",
        "    return sqrt(sum((x[i] - y[i]) ** 2 for i in range(len(x))))\n",
        "\n",
        "\n",
        "def m_norm(size, matrix):\n",
        "    v = [abs(sum(matrix[i][j] for i in range(size))) for j in range(size)]\n",
        "    return max(v)\n",
        "\n",
        "\n",
        "def v_norm(vec):\n",
        "    size = len(vec)\n",
        "    return sum(abs(vec[i]) for i in range(size))"
      ],
      "execution_count": 6,
      "outputs": []
    },
    {
      "cell_type": "code",
      "metadata": {
        "id": "m4DPuR4i6RUX"
      },
      "source": [
        "def v_sum(x, y):\n",
        "    return [x[i] + y[i] for i in range(len(x))]\n",
        "\n",
        "\n",
        "def v_minus(x, y):\n",
        "    return [x[i] - y[i] for i in range(len(x))]"
      ],
      "execution_count": 7,
      "outputs": []
    },
    {
      "cell_type": "code",
      "metadata": {
        "id": "zVfRN68Z6RaW"
      },
      "source": [
        "def show(a, n):\n",
        "    for i in range(0, n):\n",
        "        for j in range(0, n):\n",
        "            print(\"\\t\", a[i][j], \" \", end='')\n",
        "        print(\"\\n\")"
      ],
      "execution_count": 8,
      "outputs": []
    },
    {
      "cell_type": "markdown",
      "metadata": {
        "id": "9N--0Z9N7Ogm"
      },
      "source": [
        "Вариант 17\n",
        "$$\n",
        "\\begin{equation*}\n",
        " \\begin{cases}\n",
        "   -19⋅x_1+2⋅x_2-x_3-8⋅x_4=38\\\\\n",
        "   2⋅x_1+14⋅x_2-4⋅x_4=20\\\\\n",
        "   6⋅x_1-5⋅x_2-20⋅x_3-6⋅x_4=52\\\\\n",
        "   -6⋅x_1+4⋅x_2-2⋅x_3+15⋅x_4=43\\\\\n",
        " \\end{cases}\n",
        "\\end{equation*}\n",
        "$$"
      ]
    },
    {
      "cell_type": "code",
      "metadata": {
        "colab": {
          "base_uri": "https://localhost:8080/"
        },
        "id": "hJTFAT2r6qDL",
        "outputId": "3c105c6c-993b-4dd8-d783-6c0d54c6a8ed"
      },
      "source": [
        "eps = 0.001\n",
        "a = [[-19, 2, -1, -8],\n",
        "    [2, 14, 0, -4],\n",
        "    [6, -5, -20, -6],\n",
        "    [-6, 4, -2, 15]]\n",
        "b = [38, 20, 52, 43]\n",
        "print(\"Метод Зейделя:\")\n",
        "seidel(a, b, eps)\n",
        "print(\"\\nМетод простых итераций:\")\n",
        "simpleIteration(a, b, eps)"
      ],
      "execution_count": 10,
      "outputs": [
        {
          "output_type": "stream",
          "name": "stdout",
          "text": [
            "Метод Зейделя:\n",
            "Iteration 0 ans  [-2.0, 1.4285714285714286, -2.6, 2.8666666666666667]\n",
            "Iteration 1 ans  [-2.919799498746867, 2.664733261725743, -5.002123165055496, 0.3212015753669893]\n",
            "Iteration 2 ans  [-1.5914748902331017, 1.7476968629952971, -3.610727155428852, 1.2825939263841666]\n",
            "Iteration 3 ans  [-2.166033185771257, 2.1044601483627985, -4.160703170737326, 0.8843035966964405]\n",
            "Iteration 4 ans  [-1.9318318582162424, 1.9572055788013034, -3.934142031174131, 1.0474601648766046]\n",
            "Iteration 5 ans  [-2.027954112117689, 2.0175534916958426, -4.027012656022249, 0.9805357365643997]\n",
            "Iteration 6 ans  [-1.9885350659526981, 1.9928009341544997, -3.988921474293754, 1.007982861271887]\n",
            "Iteration 7 ans  [-2.004702081451176, 2.00295254342785, -4.004543618673881, 0.9967260066822523]\n",
            "Iteration 8 ans  [-1.9980715446278126, 1.998789079713188, -3.9981365353213163, 1.0013427561825161]\n",
            "Iteration 9 ans  [-2.000790913405918, 2.0004966322529927, -4.000764258939778, 0.9994492981781978]\n",
            "Iteration 10 ans  [-1.9996756243147271, 1.9997963172387319, -3.9996865560575605, 1.0002258582027725]\n",
            "\n",
            "Метод простых итераций:\n",
            "Решение найдено на итерации 16:\n",
            "[-2.0000368098640267, 1.9999870625641294, -3.9999302593776025, 1.0001197301739433]\n"
          ]
        }
      ]
    }
  ]
}
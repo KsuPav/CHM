{
  "nbformat": 4,
  "nbformat_minor": 0,
  "metadata": {
    "colab": {
      "name": "lab4_2.ipynb",
      "provenance": [],
      "collapsed_sections": []
    },
    "kernelspec": {
      "name": "python3",
      "display_name": "Python 3"
    },
    "language_info": {
      "name": "python"
    }
  },
  "cells": [
    {
      "cell_type": "markdown",
      "metadata": {
        "id": "AbbQaEKQg2FJ"
      },
      "source": [
        "# Лабораторная работа 4, задача 2, вариант 17"
      ]
    },
    {
      "cell_type": "code",
      "metadata": {
        "id": "cXj99ThmVrkX"
      },
      "source": [
        "import math\n",
        "import numpy as np\n",
        "import matplotlib.pyplot as plt"
      ],
      "execution_count": null,
      "outputs": []
    },
    {
      "cell_type": "code",
      "metadata": {
        "id": "5uldfJisiNaG"
      },
      "source": [
        "def func(x, y, y_der):\n",
        "    return - y_der*(x-3)/(x**2-1) + y/(x**2-1)"
      ],
      "execution_count": null,
      "outputs": []
    },
    {
      "cell_type": "code",
      "metadata": {
        "id": "W7QtFIeRiSOm"
      },
      "source": [
        "def g(x, y, k):\n",
        "    return k"
      ],
      "execution_count": null,
      "outputs": []
    },
    {
      "cell_type": "code",
      "metadata": {
        "id": "rL6nbv1eiT6-"
      },
      "source": [
        "def p(x):\n",
        "    return (x-3)/(x**2-1)"
      ],
      "execution_count": null,
      "outputs": []
    },
    {
      "cell_type": "code",
      "metadata": {
        "id": "070f_eWBiVXy"
      },
      "source": [
        "def q(x):\n",
        "    return - 1/(x**2-1)"
      ],
      "execution_count": null,
      "outputs": []
    },
    {
      "cell_type": "code",
      "metadata": {
        "id": "8jo9svgyiWaO"
      },
      "source": [
        "def absolute_solve(x):\n",
        "    return x-3 + 1/(x+1)"
      ],
      "execution_count": null,
      "outputs": []
    },
    {
      "cell_type": "code",
      "metadata": {
        "id": "EFZu1FX3iXjJ"
      },
      "source": [
        "def f(x):\n",
        "    return 0"
      ],
      "execution_count": null,
      "outputs": []
    },
    {
      "cell_type": "code",
      "metadata": {
        "id": "-BgCKDDXiZp9"
      },
      "source": [
        "def stop(y, y1, eps):\n",
        "    if abs(y[-1] - y1) > eps:\n",
        "        return True\n",
        "    else:\n",
        "        return False"
      ],
      "execution_count": null,
      "outputs": []
    },
    {
      "cell_type": "code",
      "metadata": {
        "id": "GJvdR2kDicDj"
      },
      "source": [
        "def runge_kutta(f, a, b, h, y0, z):\n",
        "    n = int((b - a) / h)\n",
        "    x = [i for i in np.arange(a, b + h, h)]\n",
        "    y = [y0]\n",
        "    k = [z] \n",
        "    for i in range(n):\n",
        "        k1 = h * g(x[i], y[i], k[i])\n",
        "        l1 = h * f(x[i], y[i], k[i])\n",
        "        k2 = h * g(x[i] + 0.5 * h, y[i] + 0.5 * k1, k[i] + 0.5 * l1)\n",
        "        l2 = h * f(x[i] + 0.5 * h, y[i] + 0.5 * k1, k[i] + 0.5 * l1)\n",
        "        k3 = h * g(x[i] + 0.5 * h, y[i] + 0.5 * k2, k[i] + 0.5 * l2)\n",
        "        l3 = h * f(x[i] + 0.5 * h, y[i] + 0.5 * k2, k[i] + 0.5 * l2)\n",
        "        k4 = h * g(x[i] + h, y[i] + k3, k[i] + l3)\n",
        "        l4 = h * f(x[i] + h, y[i] + k3, k[i] + l3)\n",
        "        y.append(y[i] + (k1 + 2 * k2 + 2 * k3 + k4) / 6)\n",
        "        k.append(k[i] + (l1 + 2 * l2 + 2 * l3 + l4) / 6)\n",
        "    return x, y, k"
      ],
      "execution_count": null,
      "outputs": []
    },
    {
      "cell_type": "code",
      "metadata": {
        "id": "sQB3lZCFiazS"
      },
      "source": [
        "def newN(n_last, n, ans_last, ans, y1):\n",
        "    x, y = ans_last[0], ans_last[1]\n",
        "    phi_last = y[-1] - y1\n",
        "    x, y = ans[0], ans[1]\n",
        "    phi = y[-1] - y1\n",
        "    return n - (n - n_last) / (phi - phi_last) * phi"
      ],
      "execution_count": null,
      "outputs": []
    },
    {
      "cell_type": "code",
      "metadata": {
        "id": "_YFDtT9oidce"
      },
      "source": [
        "def shooting_method(a, b, y0, y1, h, eps):\n",
        "    n_last = 1\n",
        "    n = 0.8\n",
        "    y_der = n_last\n",
        "    ans_last = runge_kutta(func, a, b, h, n_last, y_der)[:2]\n",
        "    y_der = n\n",
        "    ans = runge_kutta(func, a, b, h, n, y_der)[:2]\n",
        "\n",
        "    while stop(ans[1], y1, eps):\n",
        "        n, n_last = newN(n_last, n, ans_last, ans, y1), n\n",
        "        ans_last = ans\n",
        "        y_der = n\n",
        "        ans = runge_kutta(func, a, b, h, y0, y_der)[:2]\n",
        "\n",
        "    return ans"
      ],
      "execution_count": null,
      "outputs": []
    },
    {
      "cell_type": "code",
      "metadata": {
        "id": "bPueZbR_iem8"
      },
      "source": [
        "def tma(a, b, c, d, shape):\n",
        "    p = [-c[0] / b[0]]\n",
        "    q = [d[0] / b[0]]\n",
        "    x = [0] * (shape + 1)\n",
        "    for i in range(1, shape):\n",
        "        p.append(-c[i] / (b[i] + a[i] * p[i - 1]))\n",
        "        q.append((d[i] - a[i] * q[i - 1]) / (b[i] + a[i] * p[i - 1]))\n",
        "    for i in reversed(range(shape)):\n",
        "        x[i] = p[i] * x[i + 1] + q[i]\n",
        "    return x[:-1]"
      ],
      "execution_count": null,
      "outputs": []
    },
    {
      "cell_type": "code",
      "metadata": {
        "id": "-o4CCXQzifz3"
      },
      "source": [
        "def finite_difference(a, b, alpha, beta, delta, gamma, y0, y1, h):\n",
        "    n = int((b - a) / h)\n",
        "    x = [i for i in np.arange(a, b + h, h)]\n",
        "    A = [0] + [1 - p(x[i]) * h / 2 for i in range(0, n - 1)] + [-gamma]\n",
        "    B = [alpha * h - beta] + [q(x[i]) * h ** 2 - 2 for i in range(0, n - 1)] + [delta * h + gamma]\n",
        "\n",
        "    C = [beta] + [1 + p(x[i]) * h / 2 for i in range(0, n - 1)] + [0]\n",
        "    D = [y0 * h] + [f(x[i]) * h ** 2 for i in range(0, n - 1)] + [y1 * h]\n",
        "\n",
        "    y = tma(A, B, C, D, len(A))\n",
        "    return x, y"
      ],
      "execution_count": null,
      "outputs": []
    },
    {
      "cell_type": "code",
      "metadata": {
        "id": "r-0Dg_o8ijuC"
      },
      "source": [
        "def runge_romberg(ans, exact):\n",
        "    k = ans[0]['h'] / ans[1]['h']\n",
        "    y1 = [yi for xi, yi in zip(ans[0]['Shooting']['x'], ans[0]['Shooting']['y']) if xi in ans[1]['Shooting']['x']]\n",
        "    y2 = [yi for xi, yi in zip(ans[1]['Shooting']['x'], ans[1]['Shooting']['y']) if xi in ans[0]['Shooting']['x']]\n",
        "    shoot_err = [y1 + (y2 - y1) / (k ** 2 - 1) for y1, y2 in zip(y1, y2)]\n",
        "    x_ex = [xi for xi in ans[0]['Shooting']['x'] if xi in ans[1]['Shooting']['x']]\n",
        "    y_ex = [absolute_solve(i) for i in x_ex]\n",
        "    for i in range(len(shoot_err)):\n",
        "        shoot_err[i] = abs(shoot_err[i] - y_ex[i])\n",
        "\n",
        "    y1 = [yi for xi, yi in zip(ans[0]['FD']['x'], ans[0]['FD']['y']) if xi in ans[1]['FD']['x']]\n",
        "    y2 = [yi for xi, yi in zip(ans[1]['FD']['x'], ans[1]['FD']['y']) if xi in ans[0]['FD']['x']]\n",
        "    fd_err = [y1 + (y2 - y1) / (k ** 2 - 1) for y1, y2 in zip(y1, y2)]\n",
        "    x_ex = [xi for xi in ans[0]['FD']['x'] if xi in ans[1]['FD']['x']]\n",
        "    y_ex = [absolute_solve(i) for i in x_ex]\n",
        "    for i in range(len(fd_err)):\n",
        "        fd_err[i] = abs(fd_err[i] - y_ex[i])\n",
        "\n",
        "    return {'Shooting': shoot_err, 'FD': fd_err}"
      ],
      "execution_count": null,
      "outputs": []
    },
    {
      "cell_type": "code",
      "metadata": {
        "id": "rOPU6oyfilE2"
      },
      "source": [
        "def sse(f, y):\n",
        "    return round(sum([(f_i - y_i) ** 2 for f_i, y_i in zip(f, y)]), 5)"
      ],
      "execution_count": null,
      "outputs": []
    },
    {
      "cell_type": "markdown",
      "metadata": {
        "id": "FBzxEmUsi79m"
      },
      "source": [
        "Вариант 17:\n",
        "\n",
        "\n",
        "---\n",
        "\n",
        "\n",
        "Краевая задача:\n",
        "$$\n",
        "(x^2-1)y''+(x-3)y'-y=0\\\\\n",
        "y'(0)=0\\\\\n",
        "y'(1)+y(1)=-0.75\\\\\n",
        "x\\in{[0,1]}\\\\\n",
        "$$\n",
        "Точное решение:\n",
        "$$\n",
        "y = x-3+\\frac{1}{x+1}\n",
        "$$"
      ]
    },
    {
      "cell_type": "code",
      "metadata": {
        "colab": {
          "base_uri": "https://localhost:8080/"
        },
        "id": "tEwJGahEkCyY",
        "outputId": "4368c20e-636c-4b66-a715-5f7b02dacfb2"
      },
      "source": [
        "# вариант 17\n",
        "a = 0\n",
        "b = 1\n",
        "alpha = 0\n",
        "delta = 1\n",
        "gamma = 1\n",
        "beta = 1\n",
        "y0 = 0.0\n",
        "y1 = -0.75\n",
        "\n",
        "# для метода стрельбы создадим краевые условия первого рода\n",
        "y0_ = absolute_solve(0)\n",
        "y1_ = absolute_solve(1)\n",
        "step = 1 / 60\n",
        "eps = 1e-5\n",
        "\n",
        "print(f'Interval: [{a}, {b}]')\n",
        "print(f'y0 = {y0}, y1 = {y1}')\n",
        "print()"
      ],
      "execution_count": null,
      "outputs": [
        {
          "output_type": "stream",
          "name": "stdout",
          "text": [
            "Interval: [0, 1]\n",
            "y0 = 0.0, y1 = -0.75\n",
            "\n"
          ]
        }
      ]
    },
    {
      "cell_type": "code",
      "metadata": {
        "colab": {
          "base_uri": "https://localhost:8080/"
        },
        "id": "MewtnlX6k6Fe",
        "outputId": "6ee067fa-b4dd-4104-83c7-14cd0dff9edb"
      },
      "source": [
        "res = []\n",
        "res2 = []\n",
        "ans = []\n",
        "steps = [step, step / 2]\n",
        "i = 0\n",
        "for h in steps:\n",
        "    res.append(shooting_method(a, b, y0_, y1_, h, eps))\n",
        "    res2.append(finite_difference(a, b, alpha, beta, delta, gamma, y0, y1, h))\n",
        "    ans.append({\n",
        "        \"h\": h,\n",
        "        \"Shooting\": {'x': res[i][0],  'y': res[i][1]},\n",
        "        \"FD\":       {'x': res2[i][0], 'y': res2[i][1]}\n",
        "    })\n",
        "\n",
        "    i += 1"
      ],
      "execution_count": null,
      "outputs": [
        {
          "output_type": "stream",
          "name": "stderr",
          "text": [
            "/usr/local/lib/python3.7/dist-packages/ipykernel_launcher.py:2: RuntimeWarning: divide by zero encountered in double_scalars\n",
            "  \n",
            "/usr/local/lib/python3.7/dist-packages/ipykernel_launcher.py:2: RuntimeWarning: invalid value encountered in double_scalars\n",
            "  \n"
          ]
        }
      ]
    },
    {
      "cell_type": "code",
      "metadata": {
        "colab": {
          "base_uri": "https://localhost:8080/",
          "height": 283
        },
        "id": "cH1pAgKOAIHd",
        "outputId": "82e5f769-4b03-4b1a-b5d2-a21176c9ec52"
      },
      "source": [
        "abs_solve = []\n",
        "for x_ in ans[0]['FD']['x']:\n",
        "  abs_solve.append(absolute_solve(x_))\n",
        "plt.plot(ans[0]['FD']['x'],ans[0]['FD']['y'])\n",
        "plt.plot(ans[0]['FD']['x'],abs_solve)\n",
        "plt.legend(['Shooting','Точное решение'])"
      ],
      "execution_count": null,
      "outputs": [
        {
          "output_type": "execute_result",
          "data": {
            "text/plain": [
              "<matplotlib.legend.Legend at 0x7f63a6003ed0>"
            ]
          },
          "metadata": {},
          "execution_count": 110
        },
        {
          "output_type": "display_data",
          "data": {
            "image/png": "[encoded data removed]",
            "text/plain": [
              "<Figure size 432x288 with 1 Axes>"
            ]
          },
          "metadata": {
            "needs_background": "light"
          }
        }
      ]
    },
    {
      "cell_type": "code",
      "metadata": {
        "colab": {
          "base_uri": "https://localhost:8080/",
          "height": 283
        },
        "id": "A2uG0635Z1wT",
        "outputId": "1a75a92a-9a43-435d-adee-0ef9b1490bbd"
      },
      "source": [
        "abs_solve = []\n",
        "for x_ in ans[1]['Shooting']['x']:\n",
        "  abs_solve.append(absolute_solve(x_))\n",
        "\n",
        "figure, ax = plt.subplots(1,2)\n",
        "ax[0].plot(ans[1]['Shooting']['x'],ans[1]['Shooting']['y'])\n",
        "ax[1].plot(ans[1]['Shooting']['x'],abs_solve,c=\"orange\")\n",
        "ax[0].legend(['Shooting'])\n",
        "ax[1].legend(['Точное решение'])"
      ],
      "execution_count": null,
      "outputs": [
        {
          "output_type": "execute_result",
          "data": {
            "text/plain": [
              "<matplotlib.legend.Legend at 0x7f63a5d75ed0>"
            ]
          },
          "metadata": {},
          "execution_count": 116
        },
        {
          "output_type": "display_data",
          "data": {
            "image/png": "[encoded data removed]",
            "text/plain": [
              "<Figure size 432x288 with 2 Axes>"
            ]
          },
          "metadata": {
            "needs_background": "light"
          }
        }
      ]
    },
    {
      "cell_type": "code",
      "metadata": {
        "colab": {
          "base_uri": "https://localhost:8080/"
        },
        "id": "a15phdrUioOT",
        "outputId": "0d84e1da-1a8b-4884-c785-b3aba5554b45"
      },
      "source": [
        "exact = []\n",
        "for h in steps:\n",
        "    x_ex = [i for i in np.arange(a, b + h, h)]\n",
        "    y_ex = [absolute_solve(i) for i in x_ex]\n",
        "    exact.append((x_ex, y_ex))\n",
        "\n",
        "err = runge_romberg(ans, exact)\n",
        "print(\"All errors\")\n",
        "print('Shooting method runge error: {}'.format(err['Shooting']))\n",
        "print('Finite difference method runge error: {}'.format(err['FD']))"
      ],
      "execution_count": null,
      "outputs": [
        {
          "output_type": "stream",
          "name": "stdout",
          "text": [
            "All errors\n",
            "Shooting method runge error: [0.0, 2.0774217901475822e-09, 4.074732329328867e-09, 5.993554541561252e-09, 7.835620596807757e-09, 9.602738382241682e-09, 1.1296768853696904e-08, 1.2919601388716728e-08, 1.447313824343155e-08, 1.5959278343302685e-08, 1.737990773520437e-08, 1.8736890261550343e-08, 2.003206112100031e-08, 2.1267217986675746e-08, 2.244412189433831e-08, 2.35644905810517e-08, 2.4629996486780215e-08, 2.5642266754388743e-08, 2.6602880343062907e-08, 2.751336891648748e-08, 2.837521617671257e-08, 2.918985719801981e-08, 2.9958680647368396e-08, 3.0683027452127476e-08, 3.136419257643297e-08, 3.2003425687321396e-08, 3.260193293108671e-08, 3.316087471283424e-08, 3.3681369693283614e-08, 3.4164496121036336e-08, 3.461128916804057e-08, 3.5022744704349407e-08, 3.539981929812086e-08, 3.574342977152867e-08, 3.6054454755074516e-08, 3.6333734465543444e-08, 3.658206870760239e-08, 3.680021976038006e-08, 3.698890838066404e-08, 3.7148813802900804e-08, 3.7280570408526614e-08, 3.7384763507120056e-08, 3.7461924895509924e-08, 3.751252442008024e-08, 3.7536960650896845e-08, 3.7535542229960583e-08, 3.7508466999014445e-08, 3.745578602831756e-08, 3.737735121411845e-08, 3.7272732900106575e-08, 3.7141083542024944e-08, 3.6980909001727014e-08, 3.6789661095326665e-08, 3.6562957994590306e-08, 3.6292988170316676e-08, 3.5964878630778685e-08, 3.554725003240833e-08, 3.496255196466791e-08, 3.3962650025642915e-08, 3.125755942967601e-08, 1.1102230246251565e-15]\n",
            "Finite difference method runge error: [0.03608370200272559, 0.03585570198888721, 0.03562890168366217, 0.0354029025866176, 0.03517735236740416, 0.034951939681467925, 0.03472638960521501, 0.03450045961047077, 0.03427393600929074, 0.034046630809750456, 0.03381837893144035, 0.03358903573632288, 0.03335847483652432, 0.03312658614568931, 0.032893274144857765, 0.03265845633759512, 0.032422061872276364, 0.03218403031223649, 0.03194431053687752, 0.03170285975891618, 0.03145964264474865, 0.031214630526480436, 0.03096780069553584, 0.030719135768950023, 0.030468623120481375, 0.030216254369598072, 0.029962024922181252, 0.029705933557494735, 0.029447982056567845, 0.029188174867696093, 0.028926518805227674, 0.028663022778224967, 0.028397697545958556, 0.02813055549752197, 0.027861610453133956, 0.027590877484971355, 0.027318372755573028, 0.027044113372082235, 0.026768117254758916, 0.02649040301835659, 0.026210989865092182, 0.025929897488073506, 0.02564714598414608, 0.02536275577521785, 0.025076747537217114, 0.02478914213589678, 0.02449996056876036, 0.024209223912438738, 0.023916953274875752, 0.023623169751692652, 0.02332789438610372, 0.023031148131703816, 0.02273295181735957, 0.022433326113251884, 0.022132291496772094, 0.021829868216312942, 0.02152607624970071, 0.02122093525118207, 0.020914464474154792, 0.020606682637754448, 0.02029760763534716]\n"
          ]
        }
      ]
    }
  ]
}
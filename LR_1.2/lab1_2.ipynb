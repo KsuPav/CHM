{
  "nbformat": 4,
  "nbformat_minor": 0,
  "metadata": {
    "colab": {
      "name": "lab1_2.ipynb",
      "provenance": [],
      "collapsed_sections": []
    },
    "kernelspec": {
      "name": "python3",
      "display_name": "Python 3"
    },
    "language_info": {
      "name": "python"
    }
  },
  "cells": [
    {
      "cell_type": "markdown",
      "metadata": {
        "id": "inZIWSsF1HGp"
      },
      "source": [
        "Лабораторная работа 1, задача 2, вариант 17"
      ]
    },
    {
      "cell_type": "code",
      "metadata": {
        "id": "KUDc0wtMrem5"
      },
      "source": [
        "import numpy as np"
      ],
      "execution_count": 9,
      "outputs": []
    },
    {
      "cell_type": "code",
      "metadata": {
        "id": "X_3P4VxZx3o-"
      },
      "source": [
        "def runmethod(c, f, size):\n",
        "    cn = np.zeros(size)\n",
        "    fn = np.zeros(size)\n",
        "    yn = np.zeros(size)\n",
        "    xn = np.zeros(size)\n",
        "\n",
        "    for i in range(0, size):\n",
        "        if i == 0:\n",
        "            yn[i] = c[i][i]\n",
        "            cn[i] = -c[i][i + 1] / yn[i]\n",
        "            fn[i] = f[i] / yn[i]\n",
        "        elif i == size - 1:\n",
        "            yn[i] = c[i][i] + c[i][i-1] * cn[i-1]\n",
        "            fn[i] = (f[i] - c[i][i-1] * fn[i-1]) / yn[i]\n",
        "        else:\n",
        "            yn[i] = c[i][i] + c[i][i-1] * cn[i-1]\n",
        "            cn[i] = -c[i][i+1] / yn[i]\n",
        "            fn[i] = (f[i] - c[i][i-1] * fn[i-1]) / yn[i]\n",
        "\n",
        "    xn[size-1] = fn[size-1]\n",
        "    i = size-2\n",
        "    while i >= 0:\n",
        "        xn[i] = cn[i] * xn[i+1] + fn[i]\n",
        "        i = i - 1\n",
        "\n",
        "    return xn"
      ],
      "execution_count": 10,
      "outputs": []
    },
    {
      "cell_type": "markdown",
      "metadata": {
        "id": "7msa05wd1W60"
      },
      "source": [
        "Вариант 17\n",
        "$$\n",
        "\\begin{equation*}\n",
        " \\begin{cases}\n",
        "   -6⋅x_1+5⋅x_2=51\\\\\n",
        "   -x_1+13⋅x_2+6⋅x_3=100\\\\\n",
        "   -9⋅x_2-15⋅x_3-4⋅x_4=-12\\\\\n",
        "   -x_3-7⋅x_4+x_5=47\\\\\n",
        "   9⋅x_4-18⋅x_5=-90\\\\\n",
        " \\end{cases}\n",
        "\\end{equation*}\n",
        "$$"
      ]
    },
    {
      "cell_type": "code",
      "metadata": {
        "colab": {
          "base_uri": "https://localhost:8080/"
        },
        "id": "10rsucrTwwtN",
        "outputId": "d4106223-b06b-4a77-e31e-0cd80b3ea232"
      },
      "source": [
        "# Вариант 17\n",
        "a = [[-6, 5, 0, 0, 0],\n",
        "      [-1, 13, 6, 0, 0],\n",
        "      [0, -9, -15, -4, 0],\n",
        "      [0, 0, -1, -7, 1],\n",
        "      [0, 0, 0, 9, -18]]\n",
        "b = [51, 100, -12, 47, -90]\n",
        "print('Матрица А')\n",
        "print(a)\n",
        "print('Вектор b')\n",
        "print(b)\n",
        "print(\"Решение\")\n",
        "print(runmethod(a, b, len(b)))"
      ],
      "execution_count": 12,
      "outputs": [
        {
          "output_type": "stream",
          "name": "stdout",
          "text": [
            "Матрица А\n",
            "[[-6, 5, 0, 0, 0], [-1, 13, 6, 0, 0], [0, -9, -15, -4, 0], [0, 0, -1, -7, 1], [0, 0, 0, 9, -18]]\n",
            "Вектор b\n",
            "[51, 100, -12, 47, -90]\n",
            "Решение\n",
            "[-1.  9. -3. -6.  2.]\n"
          ]
        }
      ]
    }
  ]
}

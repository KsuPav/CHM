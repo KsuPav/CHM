{
  "nbformat": 4,
  "nbformat_minor": 0,
  "metadata": {
    "colab": {
      "name": "lab3_2.ipynb",
      "provenance": [],
      "collapsed_sections": []
    },
    "kernelspec": {
      "name": "python3",
      "display_name": "Python 3"
    },
    "language_info": {
      "name": "python"
    }
  },
  "cells": [
    {
      "cell_type": "markdown",
      "metadata": {
        "id": "TSixNSYl5l5Y"
      },
      "source": [
        "# Лабораторная работа 3, задача 2, вариант 17"
      ]
    },
    {
      "cell_type": "code",
      "metadata": {
        "id": "d_1UhL-v5lAF"
      },
      "source": [
        "import numpy as np\n",
        "import matplotlib.pyplot as plt"
      ],
      "execution_count": null,
      "outputs": []
    },
    {
      "cell_type": "code",
      "metadata": {
        "id": "3lfmKgl46QVg"
      },
      "source": [
        "def spline(a, b, c, d, x0, x):\n",
        "    return a + b * (x0 - x) + c * (x0 - x)**2 + d * (x0 - x)**3"
      ],
      "execution_count": null,
      "outputs": []
    },
    {
      "cell_type": "code",
      "metadata": {
        "id": "afccl7Lu6dsI"
      },
      "source": [
        "def runMethod(c, f, size):\n",
        "    cn = np.zeros(size)\n",
        "    fn = np.zeros(size)\n",
        "    yn = np.zeros(size)\n",
        "    xn = np.zeros(size)\n",
        "\n",
        "    for i in range(0, size):\n",
        "        if i == 0:\n",
        "            yn[i] = c[i][i]\n",
        "            cn[i] = -c[i][i + 1] / yn[i]\n",
        "            fn[i] = f[i] / yn[i]\n",
        "        elif i == size - 1:\n",
        "            yn[i] = c[i][i] + c[i][i-1] * cn[i-1]\n",
        "            fn[i] = (f[i] - c[i][i-1] * fn[i-1]) / yn[i]\n",
        "        else:\n",
        "            yn[i] = c[i][i] + c[i][i-1] * cn[i-1]\n",
        "            cn[i] = -c[i][i+1] / yn[i]\n",
        "            fn[i] = (f[i] - c[i][i-1] * fn[i-1]) / yn[i]\n",
        "\n",
        "    xn[size-1] = fn[size-1]\n",
        "    i = size-2\n",
        "    while i >= 0:\n",
        "        xn[i] = cn[i] * xn[i+1] + fn[i]\n",
        "        i = i - 1\n",
        "\n",
        "    return xn"
      ],
      "execution_count": null,
      "outputs": []
    },
    {
      "cell_type": "code",
      "metadata": {
        "id": "OAN-WZgS6a6L"
      },
      "source": [
        "# определение трехдиагональной матрицы для метода прогонки\n",
        "def getCi(x, f, size):\n",
        "\n",
        "    c = np.zeros((size-2, size-2))\n",
        "    fpr = np.zeros(size-2)\n",
        "\n",
        "    for i in range(0, size-2):\n",
        "        if i == 0:\n",
        "            c[i][i] = 2*(x[i+2] - x[i])\n",
        "            c[i][i+1] = x[i+2] - x[i+1]\n",
        "\n",
        "        elif i == size-3:\n",
        "            c[i][i - 1] = x[i + 1] - x[i]\n",
        "            c[i][i] = 2 * (x[i + 2] - x[i])\n",
        "\n",
        "        else:\n",
        "            c[i][i - 1] = x[i + 1] - x[i]\n",
        "            c[i][i] = 2 * (x[i + 2] - x[i])\n",
        "            c[i][i + 1] = x[i + 2] - x[i + 1]\n",
        "        fpr[i] = 3 * ((f[i + 2] - f[i + 1]) / (x[i + 1] - x[i])-(f[i + 1] - f[i]) / (x[i + 2] - x[i + 1]))\n",
        "\n",
        "    return runMethod(c, fpr, size-2)"
      ],
      "execution_count": null,
      "outputs": []
    },
    {
      "cell_type": "code",
      "metadata": {
        "id": "JKobBEYqs94_"
      },
      "source": [
        "def getCoeffs(f,x,a,b,c,d):\n",
        "  tmp = np.zeros(n-2)\n",
        "  tmp = getCi(x, f, n)\n",
        "  c[0] = 0\n",
        "  for i in range(1, n-1):\n",
        "      c[i] = tmp[i-1]  \n",
        "      for i in range(0, n-1):\n",
        "        a[i] = f[i]\n",
        "        hi = x[i+1]-x[i]\n",
        "        if i != n-2:\n",
        "            b[i] = (f[i+1]-f[i]) / hi - hi * (c[i+1] + 2 * c[i]) / 3\n",
        "            d[i] = (c[i+1] - c[i]) / (3 * hi)\n",
        "\n",
        "  hn = x[n - 1] - x[n - 2]\n",
        "  b[n - 2] = (f[n - 1] - f[n - 2]) / hn - 2 * hn * c[n - 2] / 3;\n",
        "  d[n - 2] = -c[n - 2] / hn / 3  "
      ],
      "execution_count": null,
      "outputs": []
    },
    {
      "cell_type": "markdown",
      "metadata": {
        "id": "7a273Dr6iURS"
      },
      "source": [
        "Вариант 17:\n",
        "$$\n",
        "x = [-2, -1, 0, 1, 2]\\\\\n",
        "f = [-1.8647, -0.63212, 1.0, 3.7183, 9.3891]\n",
        "$$"
      ]
    },
    {
      "cell_type": "code",
      "metadata": {
        "id": "lOQlwfHPicoS"
      },
      "source": [
        "n = 5\n",
        "x0 = -0.5\n",
        "x = [-2, -1, 0, 1, 2]\n",
        "f = [-1.8647, -0.63212, 1.0, 3.7183, 9.3891]"
      ],
      "execution_count": null,
      "outputs": []
    },
    {
      "cell_type": "code",
      "metadata": {
        "colab": {
          "base_uri": "https://localhost:8080/"
        },
        "id": "vMjNmoUd6vfA",
        "outputId": "16e98b06-e534-4e2f-fa69-96ee396a2739"
      },
      "source": [
        "a = np.zeros(n-1)\n",
        "b = np.zeros(n-1)\n",
        "c = np.zeros(n-1)\n",
        "d = np.zeros(n-1)\n",
        "\n",
        "getCoeffs(f,x,a,b,c,d)\n",
        "\n",
        "for i in range(0, n-1):\n",
        "    # высчитываем значение сплайна в заданной точке\n",
        "    val = spline(a[i], b[i], c[i], d[i], x0, x[i])\n",
        "    if (x0 <= x[i + 1]) and (x0 >= x[i]):\n",
        "        print(\"Значение функции в x0 = \" + str(val))"
      ],
      "execution_count": null,
      "outputs": [
        {
          "output_type": "stream",
          "name": "stdout",
          "text": [
            "Значение функции в x0 = 0.12654089285714284\n"
          ]
        }
      ]
    },
    {
      "cell_type": "markdown",
      "metadata": {
        "id": "GDgypMrGkxE6"
      },
      "source": [
        "Построим графики сплайнов на интервалах"
      ]
    },
    {
      "cell_type": "code",
      "metadata": {
        "colab": {
          "base_uri": "https://localhost:8080/",
          "height": 513
        },
        "id": "rrzP3imLkwt3",
        "outputId": "3000e859-729a-4852-819b-4e7d8932094e"
      },
      "source": [
        "val = np.zeros((n-1, 5))\n",
        "x_test = np.zeros((n-1, 5))\n",
        "legends = []\n",
        "plt.figure(figsize=(10,8))\n",
        "for i in range(0, n - 1):\n",
        "    x_test[i] = np.linspace(x[i], x[i + 1], 5)\n",
        "    legends.append(\"spline on interval x$\\in$[\" + str(x[i]) + \",\" + str(x[i + 1]) + \"]\")\n",
        "    counter = 0\n",
        "    for x_local in x_test[i]:\n",
        "        val[i][counter] = spline(a[i], b[i], c[i], d[i], x_local, x[i])\n",
        "        counter = counter + 1\n",
        "    plt.plot(x_test[i], val[i], linewidth=\"3\")\n",
        "\n",
        "plt.title(\"Кубический сплайн\");\n",
        "plt.xlabel('x')\n",
        "plt.ylabel('f')\n",
        "plt.legend(legends)\n",
        "plt.show()"
      ],
      "execution_count": null,
      "outputs": [
        {
          "output_type": "display_data",
          "data": {
            "image/png": "[encoded data removed]",
            "text/plain": [
              "<Figure size 720x576 with 1 Axes>"
            ]
          },
          "metadata": {
            "needs_background": "light"
          }
        }
      ]
    }
  ]
}
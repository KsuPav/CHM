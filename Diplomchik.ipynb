{
  "cells": [
    {
      "cell_type": "markdown",
      "metadata": {
        "id": "view-in-github",
        "colab_type": "text"
      },
      "source": [
        "<a href=\"https://colab.research.google.com/github/KsuPav/CHM/blob/main/Diplomchik.ipynb\" target=\"_parent\"><img src=\"https://colab.research.google.com/assets/colab-badge.svg\" alt=\"Open In Colab\"/></a>"
      ]
    },
    {
      "cell_type": "markdown",
      "metadata": {
        "id": "FvZhBWzSmFn8"
      },
      "source": [
        "https://debuggercafe.com/a-guide-to-xgboost-in-python/\n"
      ]
    },
    {
      "cell_type": "markdown",
      "metadata": {
        "id": "pxMDE9c271q8"
      },
      "source": [
        "**Импортируем необходимые библиотеки**"
      ]
    },
    {
      "cell_type": "code",
      "execution_count": null,
      "metadata": {
        "id": "T6JCSkgy8UHD"
      },
      "outputs": [],
      "source": [
        "import numpy as np\n",
        "import pandas as pd\n",
        "import matplotlib\n",
        "import matplotlib.pyplot as plt\n",
        "matplotlib.style.use('ggplot')\n",
        "%matplotlib inline\n",
        "\n",
        "import xgboost as xgb\n",
        "import sklearn\n",
        "from sklearn.preprocessing import LabelEncoder\n",
        "from sklearn.metrics import accuracy_score, balanced_accuracy_score, confusion_matrix, classification_report, multilabel_confusion_matrix,  recall_score, precision_score, f1_score\n",
        "from sklearn.metrics import mean_squared_error\n",
        "from sklearn.metrics import explained_variance_score\n",
        "from sklearn.model_selection import train_test_split\n",
        "\n"
      ]
    },
    {
      "cell_type": "markdown",
      "metadata": {
        "id": "OtUpfAdAyF3o"
      },
      "source": [
        "**Загрузка CSV-файла с гугл диска**"
      ]
    },
    {
      "cell_type": "code",
      "execution_count": null,
      "metadata": {
        "id": "o4hSiBRgyjVg"
      },
      "outputs": [],
      "source": [
        "from google.colab import drive\n",
        "drive.mount('/content/drive')\n",
        "\n",
        "data1 = pd.read_csv('/content/drive/My Drive/ДИПЛОМ/Colab Notebooks/data_2019_4_MA.csv', encoding = 'utf-8')\n",
        "data2 = pd.read_csv('/content/drive/My Drive/ДИПЛОМ/Colab Notebooks/data_2020_5_MA.csv', encoding = 'utf-8')\n",
        "\n",
        "data1 = pd.DataFrame(data1)\n",
        "data2 = pd.DataFrame(data2)"
      ]
    },
    {
      "cell_type": "code",
      "source": [
        "data1"
      ],
      "metadata": {
        "id": "y6gpAYODY3bN"
      },
      "execution_count": null,
      "outputs": []
    },
    {
      "cell_type": "code",
      "source": [
        "a = data1.ЛогинОО.unique()"
      ],
      "metadata": {
        "id": "JURiyc8a9Fui"
      },
      "execution_count": null,
      "outputs": []
    },
    {
      "cell_type": "code",
      "source": [
        "print(data1.Класс.unique())"
      ],
      "metadata": {
        "id": "LXwXP55GLSv8"
      },
      "execution_count": null,
      "outputs": []
    },
    {
      "cell_type": "code",
      "source": [
        "data1['ЛогинОО'].value_counts()"
      ],
      "metadata": {
        "id": "TK3QJRiTNv-z"
      },
      "execution_count": null,
      "outputs": []
    },
    {
      "cell_type": "code",
      "source": [
        "  mask = data1['region_code'] == 1\n",
        "  ch = data1[mask]"
      ],
      "metadata": {
        "id": "AWAYwLD9OE4T"
      },
      "execution_count": null,
      "outputs": []
    },
    {
      "cell_type": "code",
      "source": [
        "ch"
      ],
      "metadata": {
        "colab": {
          "base_uri": "https://localhost:8080/",
          "height": 165
        },
        "id": "TedkW6-MOJ0L",
        "outputId": "4a68c00c-d366-4b2d-bbe7-68827c746c8a"
      },
      "execution_count": 1,
      "outputs": [
        {
          "output_type": "error",
          "ename": "NameError",
          "evalue": "ignored",
          "traceback": [
            "\u001b[0;31m---------------------------------------------------------------------------\u001b[0m",
            "\u001b[0;31mNameError\u001b[0m                                 Traceback (most recent call last)",
            "\u001b[0;32m<ipython-input-1-57ab4b057145>\u001b[0m in \u001b[0;36m<module>\u001b[0;34m()\u001b[0m\n\u001b[0;32m----> 1\u001b[0;31m \u001b[0mch\u001b[0m\u001b[0;34m\u001b[0m\u001b[0;34m\u001b[0m\u001b[0m\n\u001b[0m",
            "\u001b[0;31mNameError\u001b[0m: name 'ch' is not defined"
          ]
        }
      ]
    },
    {
      "cell_type": "code",
      "source": [
        "import statistics\n",
        "data1_new = pd.DataFrame()\n",
        "k=0\n",
        "\n",
        "for i in a:\n",
        "  mask = data1['ЛогинОО'] == i\n",
        "  d = data1[mask]\n",
        "  mean = d.Отметка.mean()\n",
        "\n",
        "  st = {'Класс':4,\n",
        "        'Код_предмета':2,\n",
        "        'ЛогинОО':i,\n",
        "        'Отметка':mean,\n",
        "        'Year':2019,\n",
        "        'region_code':data1.region_code.unique()[0],\n",
        "        'ввп':data1.ввп.unique()[0],\n",
        "        'объекты':data1.объекты.unique()[0]}\n",
        "        #'Транспортная доступность':data1.Транспортная доступность.unique()[0]}\n",
        "  \n",
        "  k+=1\n",
        "  if k==100:\n",
        "    break\n",
        "  print(k/35667*100)\n",
        "  \n",
        "  #print(st)\n",
        "  data1_new = data1_new.append(st, ignore_index=True)\n",
        "  #print(data1_new)"
      ],
      "metadata": {
        "id": "VALFTdHfIOEi"
      },
      "execution_count": null,
      "outputs": []
    },
    {
      "cell_type": "code",
      "source": [
        "data1_new"
      ],
      "metadata": {
        "id": "_hRHR42ZMYXk"
      },
      "execution_count": null,
      "outputs": []
    },
    {
      "cell_type": "code",
      "source": [
        "mask = data1['Year'] == 2019\n",
        "data_2019, data_2020 = data[mask], data[~mask]"
      ],
      "metadata": {
        "id": "oHxMYyu1IJ3C"
      },
      "execution_count": null,
      "outputs": []
    },
    {
      "cell_type": "code",
      "source": [
        "\n",
        "\n",
        "city_omsk = {'Город':'Омск','Дата основания':'1716','Площадь':'573','Население':'1,2'}\n",
        "\n",
        "city_new_df = city_df.append(city_omsk, ignore_index=True)\n",
        "city_new_df"
      ],
      "metadata": {
        "id": "PNyDESRBH3Pm"
      },
      "execution_count": null,
      "outputs": []
    },
    {
      "cell_type": "code",
      "source": [
        ""
      ],
      "metadata": {
        "id": "LyhBsMT-H3SC"
      },
      "execution_count": null,
      "outputs": []
    },
    {
      "cell_type": "code",
      "source": [
        ""
      ],
      "metadata": {
        "id": "r6CDt81CH3Ub"
      },
      "execution_count": null,
      "outputs": []
    },
    {
      "cell_type": "code",
      "source": [
        "data1['Код_ученика'].value_counts()"
      ],
      "metadata": {
        "id": "igeXOQt5Msmk"
      },
      "execution_count": null,
      "outputs": []
    },
    {
      "cell_type": "markdown",
      "metadata": {
        "id": "WaEl06A1dkrb"
      },
      "source": [
        "**Обработка**"
      ]
    },
    {
      "cell_type": "code",
      "execution_count": null,
      "metadata": {
        "id": "D9FnFkoIQLwe"
      },
      "outputs": [],
      "source": [
        "# Проверка типов\n",
        "print(data1.dtypes)\n"
      ]
    },
    {
      "cell_type": "code",
      "execution_count": null,
      "metadata": {
        "id": "krh6yd7eUGiu"
      },
      "outputs": [],
      "source": [
        "# Убираем ненужные признаки\n",
        "data1 = data1.drop(['названиерегиона','Unnamed: 0', 'Unnamed: 0.1', 'Unnamed: 0.1.1', 'Код_ученика'], axis=1)\n",
        "data2 = data2.drop(['названиерегиона','Unnamed: 0', 'Unnamed: 0.1', 'Unnamed: 0.1.1', 'Код_ученика'], axis=1)"
      ]
    },
    {
      "cell_type": "code",
      "source": [
        "# Кодирование\n",
        "encoder = LabelEncoder()\n",
        "data1['ЛогинОО'] = encoder.fit_transform(data1['ЛогинОО'])\n",
        "data2['ЛогинОО'] = encoder.fit_transform(data2['ЛогинОО'])\n",
        "\n",
        "\n",
        "print(data1.dtypes)"
      ],
      "metadata": {
        "id": "Y4fByU6ocg8k",
        "colab": {
          "base_uri": "https://localhost:8080/"
        },
        "outputId": "3c90ce38-f67a-4be1-d6c1-febfb1d816a4"
      },
      "execution_count": null,
      "outputs": [
        {
          "output_type": "stream",
          "name": "stdout",
          "text": [
            "Класс                         int64\n",
            "Код_предмета                  int64\n",
            "ЛогинОО                       int64\n",
            "Балл                          int64\n",
            "Отметка                       int64\n",
            "Year                          int64\n",
            "region_code                   int64\n",
            "ввп                         float64\n",
            "объекты                     float64\n",
            "Транспортная доступность    float64\n",
            "dtype: object\n"
          ]
        }
      ]
    },
    {
      "cell_type": "markdown",
      "metadata": {
        "id": "UpsYatnCYxBU"
      },
      "source": [
        "**Разделение наборов**"
      ]
    },
    {
      "cell_type": "code",
      "execution_count": null,
      "metadata": {
        "id": "BhP-o0jnYDOT"
      },
      "outputs": [],
      "source": [
        "# Разделение параметров и меток\n",
        "x_train = data1.drop(['Балл', 'Отметка'], axis=1)\n",
        "y_train = data1['Отметка']\n",
        "\n",
        "x_test = data2.drop(['Балл', 'Отметка'], axis=1)\n",
        "y_test = data2['Отметка']\n",
        "\n",
        "\n",
        "# train-test (85% - обучение, 15% - валидация)\n",
        "#x_train_1, x_test_1, y_train_1, y_test_1 = train_test_split(features_1, labels_1, test_size=0.00000000001)\n",
        "#x_train_2, x_test_2, y_train_2, y_test_2 = train_test_split(features, labels_2, train_size=0.85)"
      ]
    },
    {
      "cell_type": "code",
      "source": [
        ""
      ],
      "metadata": {
        "id": "-vR3Jtm9_ur7"
      },
      "execution_count": null,
      "outputs": []
    },
    {
      "cell_type": "code",
      "execution_count": null,
      "metadata": {
        "id": "fFq94C-yYvgj"
      },
      "outputs": [],
      "source": [
        "# Преобразование в DMatrix\n",
        "d_train = xgb.DMatrix(x_train, y_train)\n",
        "d_test = xgb.DMatrix(x_test, y_test)"
      ]
    },
    {
      "cell_type": "markdown",
      "metadata": {
        "id": "anY8vPref2ey"
      },
      "source": [
        "**Настройка параметров**\n",
        "\n",
        "*booster* указывает тип бустера, который будет использовать XGBoost. По умолчанию gbtree.\n",
        "\n",
        "*max_depth* - максимальная глубина дерева. Очень высокое значение может привести к перегрузке алгоритма.\n",
        "\n",
        "*learning_rate* - скорость обучения алгоритма, которая установлена на 0.1. Указание, как быстро наш алгоритм будет сходиться к оптимальному решению.\n",
        "\n",
        "*sample_type* - тип выборки, используемый для отброшенных деревьев. Может быть либо *uniform*, либо *weighted*.\n",
        "\n",
        "*normalize_type* - тип алгоритма нормализации, который будет использоваться во время обучения.\n",
        "\n",
        "*objective* - цель обучения для алгоритма. *binary:hinge* выдает результаты классификации (либо 0, либо 1).\n",
        "\n",
        "*rate_drop* - коэффициент отсева деревьев. Диапазон от 0.0 до 1.0. Использовали 0.1, значит 10% деревьев будут отброшены.\n",
        "\n",
        "*n_estimators* -  количество усиленных деревьев для использования во время обучения."
      ]
    },
    {
      "cell_type": "code",
      "execution_count": null,
      "metadata": {
        "id": "KRLd_Boba7bS"
      },
      "outputs": [],
      "source": [
        "params_0 = {\n",
        "    #'tree_method': 'approx', # 'auto' не подходит, слижком большой датасет\n",
        "    'booster': 'gbtree',\n",
        "    #'max_depth': 5, \n",
        "    #'learning_rate': 1,\n",
        "    #'sample_type': 'uniform',\n",
        "    #'normalize_type': 'tree',\n",
        "    #'objective': 'reg:squarederror', # регрессия с квадратом потерь\n",
        "    #'rate_drop': 0.1,\n",
        "    #'n_estimators': 500\n",
        "}"
      ]
    },
    {
      "cell_type": "code",
      "execution_count": null,
      "metadata": {
        "id": "m0ddaUgEa7eL"
      },
      "outputs": [],
      "source": [
        "xgb_clf = xgb.train(params_0, d_train)"
      ]
    },
    {
      "cell_type": "markdown",
      "metadata": {
        "id": "AlWwVvSLkY3_"
      },
      "source": [
        "**Визуализация важности параметров**"
      ]
    },
    {
      "cell_type": "code",
      "execution_count": null,
      "metadata": {
        "id": "B47wtl7CiV8r"
      },
      "outputs": [],
      "source": [
        "plt.figure(figsize=(16, 12))\n",
        "xgb.plot_importance(xgb_clf)\n",
        "plt.show()"
      ]
    },
    {
      "cell_type": "code",
      "execution_count": null,
      "metadata": {
        "id": "lyeEn8_xYvoJ"
      },
      "outputs": [],
      "source": [
        "# Прогноз\n",
        "preds = xgb_clf.predict(d_test)"
      ]
    },
    {
      "cell_type": "code",
      "source": [
        "y_test"
      ],
      "metadata": {
        "id": "dt0YErI3Apdq"
      },
      "execution_count": null,
      "outputs": []
    },
    {
      "cell_type": "code",
      "source": [
        "print(preds)"
      ],
      "metadata": {
        "id": "nArtgemOAoBM"
      },
      "execution_count": null,
      "outputs": []
    },
    {
      "cell_type": "code",
      "source": [
        "preds_round = preds.round().astype(int)"
      ],
      "metadata": {
        "id": "1nw670-sn4wO"
      },
      "execution_count": null,
      "outputs": []
    },
    {
      "cell_type": "code",
      "source": [
        "# Процент ошибок в прогнозировании отметок\n",
        "print(round((y_test != preds_round).sum() / y_test.size * 100), '%')"
      ],
      "metadata": {
        "id": "S7TZYYaMj4HR"
      },
      "execution_count": null,
      "outputs": []
    },
    {
      "cell_type": "code",
      "source": [
        "# Процент ошибок в прогнозировании баллов\n",
        "print(round((y_test != preds_round).sum() / y_test.size * 100), '%')"
      ],
      "metadata": {
        "id": "4xbZlLh-pt-g"
      },
      "execution_count": null,
      "outputs": []
    },
    {
      "cell_type": "code",
      "source": [
        "print(accuracy_score(y_test_1, preds_1_round))\n",
        "print(accuracy_score(y_test_2, preds_2_round))"
      ],
      "metadata": {
        "id": "FmTsMmQiqWGc"
      },
      "execution_count": null,
      "outputs": []
    },
    {
      "cell_type": "code",
      "source": [
        "print(balanced_accuracy_score(y_test_1, preds_1_round))\n",
        "print(balanced_accuracy_score(y_test_2, preds_2_round))\n"
      ],
      "metadata": {
        "id": "rY-hJezn0FHr"
      },
      "execution_count": null,
      "outputs": []
    },
    {
      "cell_type": "code",
      "source": [
        "print(confusion_matrix(y_test_1, preds_1_round))\n",
        "print(confusion_matrix(y_test_2, preds_2_round))"
      ],
      "metadata": {
        "id": "LnGwXcbF0QNM"
      },
      "execution_count": null,
      "outputs": []
    },
    {
      "cell_type": "code",
      "source": [
        "print(classification_report(y_test_1, preds_1_round))\n",
        "print(classification_report(y_test_2, preds_2_round))"
      ],
      "metadata": {
        "id": "EUnLQNJ80b6K"
      },
      "execution_count": null,
      "outputs": []
    },
    {
      "cell_type": "code",
      "source": [
        "print(multilabel_confusion_matrix(y_test_1, preds_1_round))\n",
        "print(multilabel_confusion_matrix(y_test_2, preds_2_round))"
      ],
      "metadata": {
        "id": "VNAmtEy40b8N"
      },
      "execution_count": null,
      "outputs": []
    },
    {
      "cell_type": "code",
      "source": [
        ""
      ],
      "metadata": {
        "id": "dFIHpCQXbiXv"
      },
      "execution_count": null,
      "outputs": []
    },
    {
      "cell_type": "code",
      "source": [
        ""
      ],
      "metadata": {
        "id": "sg9myo2acxun"
      },
      "execution_count": null,
      "outputs": []
    },
    {
      "cell_type": "code",
      "source": [
        ""
      ],
      "metadata": {
        "id": "pJPEBdxtcxxP"
      },
      "execution_count": null,
      "outputs": []
    },
    {
      "cell_type": "code",
      "source": [
        ""
      ],
      "metadata": {
        "id": "cwPu0ttUcx0F"
      },
      "execution_count": null,
      "outputs": []
    },
    {
      "cell_type": "code",
      "source": [
        "#Проверка корреляции\n",
        "gbm\n",
        "col_names = x_train_1.columns\n",
        "for col, val in sorted(zip(col_names, gbm.feature_importances_), key=lambda x:x[1], reverse=True,)[:10]:\n",
        "    print(f\"{col:10}{val:10.3f}\")"
      ],
      "metadata": {
        "id": "p5qUMHR51Wjw"
      },
      "execution_count": null,
      "outputs": []
    },
    {
      "cell_type": "code",
      "source": [
        "# Оптимизация\n",
        "import xgboost as xgb\n",
        "model = xgb.XGBClassifier()\n",
        "#gbm = model.fit(x_train_1, y_train_1)\n",
        "#gbm.score(x_test_1, y_test_1)"
      ],
      "metadata": {
        "id": "nLBN4uOa1WmV"
      },
      "execution_count": null,
      "outputs": []
    },
    {
      "cell_type": "code",
      "source": [
        "from sklearn.model_selection import cross_validate, GridSearchCV\n",
        "\n",
        "params = {'n_estimators':[67, 70, 100, 120, 200, 315],\n",
        "          'reg_lambda':[2, 1],\n",
        "          'gamma':[0,0.3,0.2,0.1],\n",
        "          'max_depth':list(range(3, 6)), \n",
        "          'learning_rate':[0.001,0.002,0.003,0.004,0.005,0.006,0.007,0.008,0.05,0.09],\n",
        "          'min_child_weight ':[1, 3, 5, 7, 9],    \n",
        "}\n",
        "clf=GridSearchCV(model, params, cv=10, n_jobs=-1, verbose=1)\n",
        "clf.fit(x_train_1, y_train_1)"
      ],
      "metadata": {
        "colab": {
          "base_uri": "https://localhost:8080/"
        },
        "id": "azuvl0lL1Wo2",
        "outputId": "127e3c62-db34-47a0-9171-ad942cf070f9"
      },
      "execution_count": null,
      "outputs": [
        {
          "output_type": "stream",
          "name": "stdout",
          "text": [
            "Fitting 10 folds for each of 7200 candidates, totalling 72000 fits\n"
          ]
        }
      ]
    },
    {
      "cell_type": "code",
      "source": [
        "from sklearn.model_selection import RandomizedSearchCV\n",
        "\n",
        "params1 = {'n_estimators': [100, 200, 500, 800, 1000, 1200],\n",
        "          'max_depth': [3,5,7],\n",
        "          'objective': ['binary:logistic'],\n",
        "          'min_child_weight': [1, 5, 10],\n",
        "          'gamma': [0.5, 1, 1.5, 2, 5],\n",
        "          }\n",
        "\n",
        "rfc_cv = RandomizedSearchCV(model, params, cv = 10, n_jobs=-1, verbose=2).fit(x_train_1, y_train_1)"
      ],
      "metadata": {
        "id": "gZtw6Ea-cAK8"
      },
      "execution_count": null,
      "outputs": []
    },
    {
      "cell_type": "markdown",
      "source": [
        "Итоговые параметры для Xgboost выглядят так:\n",
        "\n",
        "\n",
        "```\n",
        "model = xgb.XGBClassifier(base_score=0.5, booster='gbtree', colsample_bylevel=1,\n",
        "              colsample_bynode=1, colsample_bytree=1, gamma=0.2, gpu_id=-1,\n",
        "              importance_type='gain', interaction_constraints='',\n",
        "              learning_rate=0.05, max_delta_step=0, max_depth=3,\n",
        "              min_child_weight = 1,\n",
        "              monotone_constraints='()', n_estimators=305, n_jobs=0,\n",
        "              num_parallel_tree=1, random_state=0, reg_alpha=0, reg_lambda=2,\n",
        "              scale_pos_weight=1, subsample=1, tree_method='exact',\n",
        "              validate_parameters=1, verbosity=None)\n",
        "gbm = model.fit(X_train, y_train)\n",
        "gbm.score(X_test, y_test)\n",
        "```"
      ],
      "metadata": {
        "id": "tYLTTdofcI6e"
      }
    },
    {
      "cell_type": "markdown",
      "source": [
        "Теперь мы можем сделать прогноз, применив обученную модель на тестовом и тренировочных наборах.\n",
        "\n",
        "```\n",
        "y_pred=gbm.predict(X_train)\n",
        "t_pred=gbm.predict(X_test)\n",
        "print(accuracy_score(y_pred, y_train))\n",
        "print(accuracy_score(t_pred, y_test))\n",
        "print(gbm.feature_importances_)\n",
        "```\n",
        "\n",
        "Формируем дополнительные поля для итоговой выгрузки:\n",
        "\n",
        "```\n",
        "xgb_predictions=xgb_model.predict(X)\n",
        "xgb_probability=xgb_model.predict_proba(X)\n",
        "xgb_probability=[max(row) for row in xgb_probability]\n",
        "\n",
        "stoks2['ML П'] = pd.Series(xgb_predictions)\n",
        "stoks2['ML В'] = pd.Series(xgb_probability)\n",
        "```\n",
        "\n",
        "Выгрузка результата в Excel:\n",
        "\n",
        "\n",
        "```\n",
        "stoks2.to_excel(\"xgboost.xlsx\")\n",
        "```"
      ],
      "metadata": {
        "id": "m2tuQXAmcUKD"
      }
    },
    {
      "cell_type": "code",
      "source": [
        ""
      ],
      "metadata": {
        "id": "Ux_8koPt1WrG"
      },
      "execution_count": null,
      "outputs": []
    },
    {
      "cell_type": "code",
      "source": [
        ""
      ],
      "metadata": {
        "id": "eOq8eU8W0b-s"
      },
      "execution_count": null,
      "outputs": []
    },
    {
      "cell_type": "code",
      "source": [
        "# Оценка точности\n",
        "print(np.round(mean_squared_error(y_val_1, preds_1_round)))\n",
        "print(np.round(mean_squared_error(y_val_2, preds_2_round)))"
      ],
      "metadata": {
        "id": "AfcFc4ZYf6ya"
      },
      "execution_count": null,
      "outputs": []
    },
    {
      "cell_type": "code",
      "source": [
        "# Оценка точности\n",
        "print(np.round(explained_variance_score(y_val_1, preds_1_round)))\n",
        "print(np.round(explained_variance_score(y_val_2, preds_2_round)))"
      ],
      "metadata": {
        "id": "DOqVoAw7_CtW"
      },
      "execution_count": null,
      "outputs": []
    },
    {
      "cell_type": "markdown",
      "metadata": {
        "id": "lCxWFr-IifPR"
      },
      "source": [
        "**Кросс-валидация k-fold**"
      ]
    },
    {
      "cell_type": "code",
      "execution_count": null,
      "metadata": {
        "id": "OIUS-eAgiVrb"
      },
      "outputs": [],
      "source": [
        "# DMatrix, состоящая из всех обучающих данных\n",
        "dmatrix_data_1 = xgb.DMatrix(features, labels_1)\n",
        "dmatrix_data_2 = xgb.DMatrix(features, labels_2)"
      ]
    },
    {
      "cell_type": "code",
      "execution_count": null,
      "metadata": {
        "id": "RNPQOuIpiV2h"
      },
      "outputs": [],
      "source": [
        "# Параметры\n",
        "params = {\n",
        "    'objective': 'reg:squarederror', # регрессия с квадратом потерь\n",
        "    'colsample_bytree': 0.3,\n",
        "    'learning_rate': 0.1,\n",
        "    'max_depth': 5,\n",
        "}"
      ]
    },
    {
      "cell_type": "markdown",
      "metadata": {
        "id": "cLtSAfiFjjvS"
      },
      "source": [
        "Параметры xgb.cv():\n",
        "\n",
        "*num_boost_round* - количество итераций бустинга, для которых выполняется перекрестная проверка.\n",
        "\n",
        "*early_stopping_rounds* - если метрика валидации не улучшится за указанные раунды (в нашем случае 10), то кросс-валидация прекратится.\n",
        "\n",
        "*metrics* - метрика, по которой оценивается перекрестная проверка. *error* метрика обычно используется для двоичной классификации.\n",
        "\n",
        "*as_pandas* - результат в виде фрейма данных pandas."
      ]
    },
    {
      "cell_type": "code",
      "execution_count": null,
      "metadata": {
        "id": "ozYHkBebi-7F"
      },
      "outputs": [],
      "source": [
        "# Кросс-валидация\n",
        "cross_val_1 = xgb.cv(\n",
        "    params=params,\n",
        "    dtrain=dmatrix_data_1, \n",
        "    nfold=3,\n",
        "    num_boost_round=50,\n",
        "    early_stopping_rounds=10,\n",
        "    metrics='error',\n",
        "    as_pandas=True,\n",
        "    seed=42)\n",
        "cross_val_2 = xgb.cv(\n",
        "    params=params,\n",
        "    dtrain=dmatrix_data_2, \n",
        "    nfold=3,\n",
        "    num_boost_round=50,\n",
        "    early_stopping_rounds=10,\n",
        "    metrics='error',\n",
        "    as_pandas=True,\n",
        "    seed=42)\n",
        "\n",
        "print(cross_val_1.head())\n",
        "print(cross_val_2.head())"
      ]
    },
    {
      "cell_type": "code",
      "execution_count": null,
      "metadata": {
        "id": "2unX64WrkcuF"
      },
      "outputs": [],
      "source": [
        ""
      ]
    }
  ],
  "metadata": {
    "colab": {
      "name": "Diploma",
      "provenance": [],
      "authorship_tag": "ABX9TyM3kbrZqVzXLEcTJszaqkDo",
      "include_colab_link": true
    },
    "kernelspec": {
      "display_name": "Python 3",
      "name": "python3"
    },
    "language_info": {
      "name": "python"
    }
  },
  "nbformat": 4,
  "nbformat_minor": 0
}
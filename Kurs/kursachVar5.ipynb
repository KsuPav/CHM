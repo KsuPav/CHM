{
  "nbformat": 4,
  "nbformat_minor": 0,
  "metadata": {
    "colab": {
      "name": "kursachVar5.ipynb",
      "provenance": [],
      "collapsed_sections": []
    },
    "kernelspec": {
      "name": "python3",
      "display_name": "Python 3"
    },
    "language_info": {
      "name": "python"
    }
  },
  "cells": [
    {
      "cell_type": "code",
      "metadata": {
        "id": "fvy4149S-60-"
      },
      "source": [
        "import numpy as np\n",
        "import matplotlib.pyplot as plt"
      ],
      "execution_count": 3,
      "outputs": []
    },
    {
      "cell_type": "markdown",
      "metadata": {
        "id": "ECUxjmUf_u2S"
      },
      "source": [
        "# Решение нелинейных уравнений методом продолжения по параметру."
      ]
    },
    {
      "cell_type": "markdown",
      "metadata": {
        "id": "xCiHLO_0udAM"
      },
      "source": [
        "Решим нелинейное уравнение\n",
        "$$\n",
        "\\frac{x^3}{e^x} + 3=0\n",
        "$$"
      ]
    },
    {
      "cell_type": "code",
      "metadata": {
        "id": "nB2b9G-_GTud"
      },
      "source": [
        "def nonLinearFunction(x):\n",
        "  return x**3/np.exp(x) + 3"
      ],
      "execution_count": null,
      "outputs": []
    },
    {
      "cell_type": "code",
      "metadata": {
        "id": "TEb83PtJGOKT"
      },
      "source": [
        "def derrNonLinearFunction(x):\n",
        "  return (3*x**2 - x**3)/np.exp(x)"
      ],
      "execution_count": null,
      "outputs": []
    },
    {
      "cell_type": "code",
      "metadata": {
        "id": "O18AEjGmGhxl"
      },
      "source": [
        "x = np.linspace(-3,3,100)"
      ],
      "execution_count": null,
      "outputs": []
    },
    {
      "cell_type": "code",
      "metadata": {
        "colab": {
          "base_uri": "https://localhost:8080/",
          "height": 286
        },
        "id": "SJ5I7OJGGdJ_",
        "outputId": "df4de081-a877-4019-a63e-ee7ff5cb8535"
      },
      "source": [
        "plt.plot(x,nonLinearFunction(x))\n",
        "plt.vlines(0,-3,5)\n",
        "plt.hlines(0,-3,3)\n",
        "plt.ylim(-3,5)\n",
        "plt.xlim(-3,3)\n",
        "plt.grid()\n",
        "plt.legend(['Нелинейная функция'])"
      ],
      "execution_count": null,
      "outputs": [
        {
          "output_type": "execute_result",
          "data": {
            "text/plain": [
              "<matplotlib.legend.Legend at 0x7f67048e0590>"
            ]
          },
          "metadata": {},
          "execution_count": 12
        },
        {
          "output_type": "display_data",
          "data": {
            "image/png": "[encoded data removed]",
            "text/plain": [
              "<Figure size 432x288 with 1 Axes>"
            ]
          },
          "metadata": {
            "needs_background": "light"
          }
        }
      ]
    },
    {
      "cell_type": "markdown",
      "metadata": {
        "id": "XfW57iq_PRpL"
      },
      "source": [
        "Рассмотрим функцию гомотопии:\n",
        "$$\n",
        "$$\n",
        "\\begin{equation*}H(p, \\lambda) = f(x) − (1 − \\lambda)f(x_0)\\end{equation*}\n",
        "$$\n",
        "$$\n",
        "После ее дифференцирования по параметру, при равенстве левой части нулю, получаем задачу Коши:\n",
        "$$\n",
        "$$\n",
        "\\begin{equation*}\n",
        " \\begin{cases}\n",
        "   \\frac{dx}{d\\lambda}=-[\\frac{df}{dx}]^{-1}f(x_0)\\\\\n",
        "   x(\\lambda)|_{\\lambda=0}=x_0\n",
        " \\end{cases}\n",
        "\\end{equation*}\n",
        "$$\n",
        "$$\n",
        "Она сводится к итеративному процессу, в результате которого находится решение нелинейного уравнения"
      ]
    },
    {
      "cell_type": "code",
      "metadata": {
        "id": "Ci98VLlLFgSD"
      },
      "source": [
        "def homotopyMethod(x0):\n",
        "\n",
        "  #число шагов для метода\n",
        "  S = 10000\n",
        "\n",
        "  #шаг\n",
        "  h = 1/S\n",
        "\n",
        "  #значение функции в начальной точке\n",
        "  f0 = nonLinearFunction(x0)\n",
        "\n",
        "  #первое значение параметра\n",
        "  lk = 0\n",
        "\n",
        "  xk = x0\n",
        "  xkprev = x0\n",
        "  \n",
        "  #запускаем итеративный процесс, пока не параметр не станет равным 1\n",
        "  for k in range(S):\n",
        "    lk = lk + h\n",
        "    dfk = derrNonLinearFunction(xk)\n",
        "    xk = xkprev - h*f0/dfk\n",
        "    xkprev = xk\n",
        "\n",
        "  return xk"
      ],
      "execution_count": null,
      "outputs": []
    },
    {
      "cell_type": "code",
      "metadata": {
        "colab": {
          "base_uri": "https://localhost:8080/"
        },
        "id": "HOfQW0fGHboD",
        "outputId": "7bd1a769-e7f0-4013-bfcc-c8e55438dd1f"
      },
      "source": [
        "homotopyMethod(-1)"
      ],
      "execution_count": null,
      "outputs": [
        {
          "output_type": "execute_result",
          "data": {
            "text/plain": [
              "-1.024881545058451"
            ]
          },
          "metadata": {},
          "execution_count": 128
        }
      ]
    },
    {
      "cell_type": "code",
      "metadata": {
        "colab": {
          "base_uri": "https://localhost:8080/"
        },
        "id": "1x_mKLxpLkqk",
        "outputId": "cf2fc2bf-4c2e-4dec-90f2-3aed2543be13"
      },
      "source": [
        "nonLinearFunction(-1.024887591013923)"
      ],
      "execution_count": null,
      "outputs": [
        {
          "output_type": "execute_result",
          "data": {
            "text/plain": [
              "-7.236136697041928e-05"
            ]
          },
          "metadata": {},
          "execution_count": 129
        }
      ]
    },
    {
      "cell_type": "markdown",
      "metadata": {
        "id": "M8UkxTDTVAlP"
      },
      "source": [
        "Решим теперь систему нелинейных уравнений\n",
        "$$\n",
        "$$\n",
        "\\begin{equation*}\n",
        " \\begin{cases}\n",
        "   x_1ln(x_2)-\\frac{1}{x_2}=0\\\\\n",
        "   x_2 - e^{2x_1}=0\n",
        " \\end{cases}\n",
        "\\end{equation*}\n",
        "$$\n",
        "$$"
      ]
    },
    {
      "cell_type": "code",
      "metadata": {
        "id": "OXBEJgfIvYDi"
      },
      "source": [
        "def fun1(x1,x2):\n",
        "  return x1*np.log(x2) - 1/x2"
      ],
      "execution_count": 15,
      "outputs": []
    },
    {
      "cell_type": "code",
      "metadata": {
        "id": "nQEu8jVZ1km9"
      },
      "source": [
        "def dfun1x1(x1,x2):\n",
        "  return np.log(x2)"
      ],
      "execution_count": 16,
      "outputs": []
    },
    {
      "cell_type": "code",
      "metadata": {
        "id": "C5qHepQH1x3n"
      },
      "source": [
        "def dfun1x2(x1,x2):\n",
        "  return x1/x2 + 1/(x2**2)"
      ],
      "execution_count": 19,
      "outputs": []
    },
    {
      "cell_type": "code",
      "metadata": {
        "id": "YwJmvc95vh35"
      },
      "source": [
        "def fun2(x1,x2):\n",
        "  return x2 - np.exp(2*x1)"
      ],
      "execution_count": 17,
      "outputs": []
    },
    {
      "cell_type": "code",
      "metadata": {
        "id": "Mq7-Wt1_17PC"
      },
      "source": [
        "def dfun2x1(x1,x2):\n",
        "  return -2*np.exp(2*x1)"
      ],
      "execution_count": 18,
      "outputs": []
    },
    {
      "cell_type": "code",
      "metadata": {
        "id": "RcVK__we18st"
      },
      "source": [
        "def dfun2x2(x1,x2):\n",
        "  return 1"
      ],
      "execution_count": 20,
      "outputs": []
    },
    {
      "cell_type": "code",
      "metadata": {
        "id": "qWbvs988vvR2"
      },
      "source": [
        "def fun1_4show(x2):\n",
        "  return (1/(x2*np.log(x2)))"
      ],
      "execution_count": 47,
      "outputs": []
    },
    {
      "cell_type": "code",
      "metadata": {
        "id": "azEQZiN-v41e"
      },
      "source": [
        "def fun2_4show(x2):\n",
        "  return np.log(x2)/2"
      ],
      "execution_count": 48,
      "outputs": []
    },
    {
      "cell_type": "code",
      "metadata": {
        "id": "73DEj3W12NFS"
      },
      "source": [
        "def jacobianDet(x1,x2):\n",
        "  return dfun1x1(x1,x2)*dfun2x2(x1,x2) - dfun1x2(x1,x2)*dfun2x1(x1,x2)"
      ],
      "execution_count": 2,
      "outputs": []
    },
    {
      "cell_type": "code",
      "metadata": {
        "id": "F3MsF854Pw2N"
      },
      "source": [
        "def jacobianObr(x1,x2):\n",
        "  return [[dfun2x2(x1,x2)/jacobianDet(x1,x2),-dfun1x2(x1,x2)/jacobianDet(x1,x2)],\n",
        "          [-dfun2x1(x1,x2)/jacobianDet(x1,x2),dfun1x1(x2,x2)/jacobianDet(x1,x2)]]"
      ],
      "execution_count": 38,
      "outputs": []
    },
    {
      "cell_type": "code",
      "metadata": {
        "id": "nQRxdfxsvJvq"
      },
      "source": [
        "x = np.linspace(0.25,4,100)"
      ],
      "execution_count": 45,
      "outputs": []
    },
    {
      "cell_type": "code",
      "metadata": {
        "colab": {
          "base_uri": "https://localhost:8080/",
          "height": 300
        },
        "id": "4GGu-mjqvWXu",
        "outputId": "2e554cf0-12cc-4039-82cf-07c3d184bfd6"
      },
      "source": [
        "plt.plot(x,fun1_4show(x))\n",
        "plt.plot(x,fun2_4show(x))\n",
        "plt.xlim(1,4)\n",
        "plt.ylim(0.25,1)\n",
        "plt.xlabel('x2')\n",
        "plt.ylabel('x1')\n",
        "#начальное приближение - (0.45,2.5)"
      ],
      "execution_count": 49,
      "outputs": [
        {
          "output_type": "execute_result",
          "data": {
            "text/plain": [
              "Text(0, 0.5, 'x1')"
            ]
          },
          "metadata": {},
          "execution_count": 49
        },
        {
          "output_type": "display_data",
          "data": {
            "image/png": "[encoded data removed]",
            "text/plain": [
              "<Figure size 432x288 with 1 Axes>"
            ]
          },
          "metadata": {
            "needs_background": "light"
          }
        }
      ]
    },
    {
      "cell_type": "code",
      "metadata": {
        "colab": {
          "base_uri": "https://localhost:8080/"
        },
        "id": "Z0dg04bs5KsK",
        "outputId": "3d0031e2-f8ef-4299-adef-0b4344182ba7"
      },
      "source": [
        "print(fun1(0.44,2.46))\n",
        "print(fun2(0.44,2.46))"
      ],
      "execution_count": null,
      "outputs": [
        {
          "output_type": "stream",
          "name": "stdout",
          "text": [
            "-0.01043307106517094\n",
            "0.04910029358279022\n"
          ]
        }
      ]
    },
    {
      "cell_type": "code",
      "metadata": {
        "id": "2y8wxFSnQcg2"
      },
      "source": [
        "def matrixMultVector(m,v):\n",
        "  retVal = [0,0]\n",
        "  for m_r in range(0,len(m)):\n",
        "    for m_c in range(0,len(m)):\n",
        "      retVal[m_r] += m[m_r][m_c]*v[m_c] \n",
        "  return retVal"
      ],
      "execution_count": 11,
      "outputs": []
    },
    {
      "cell_type": "code",
      "metadata": {
        "id": "UwidZW4M2bvd"
      },
      "source": [
        "def homotopyMethodSystem(x0):\n",
        "\n",
        "  #число шагов для метода\n",
        "  S = 1000\n",
        "\n",
        "  #шаг\n",
        "  h = 1/S\n",
        "\n",
        "  #значение функции в начальной точке\n",
        "  f0 = [fun1(x0[0],x0[1]),fun2(x0[0],x0[1])]\n",
        "  print(f0)\n",
        "\n",
        "  #первое значение параметра\n",
        "  lk = 0\n",
        "\n",
        "  xk = x0\n",
        "  xkprev = x0\n",
        "  \n",
        "  #запускаем итеративный процесс, пока не параметр не станет равным 1\n",
        "  for k in range(S):\n",
        "    lk = lk + h\n",
        "    detJ = jacobianDet(xk[0],xk[1])\n",
        "    ftemp = [(h)*f0[0],(h)*f0[1]]\n",
        "    ftemp = matrixMultVector(jacobianObr(xk[0],xk[1]),ftemp)\n",
        "    xk = [xkprev[0] - ftemp[0],xkprev[1] - ftemp[1]]\n",
        "    xkprev = xk\n",
        "\n",
        "  return xk"
      ],
      "execution_count": 55,
      "outputs": []
    },
    {
      "cell_type": "code",
      "metadata": {
        "colab": {
          "base_uri": "https://localhost:8080/"
        },
        "id": "VTBo83LS2vdD",
        "outputId": "730733ab-63f1-484f-ac75-4e2a93b30fb2"
      },
      "source": [
        "solve = homotopyMethodSystem([0.45,2.5])"
      ],
      "execution_count": 56,
      "outputs": [
        {
          "output_type": "stream",
          "name": "stdout",
          "text": [
            "[0.012330829343369765, 0.04039688884305015]\n"
          ]
        }
      ]
    },
    {
      "cell_type": "code",
      "metadata": {
        "colab": {
          "base_uri": "https://localhost:8080/"
        },
        "id": "gAhflAu04aeY",
        "outputId": "ab357bf9-a95b-4b1c-cc33-0000b4276b5c"
      },
      "source": [
        "print(fun1(solve[0], solve[1]))\n",
        "print(fun2(solve[0], solve[1]))"
      ],
      "execution_count": 57,
      "outputs": [
        {
          "output_type": "stream",
          "name": "stdout",
          "text": [
            "-1.5209758136291995e-07\n",
            "-1.7802803675692758e-09\n"
          ]
        }
      ]
    },
    {
      "cell_type": "markdown",
      "metadata": {
        "id": "HClwA9AB_fNz"
      },
      "source": [
        "Литература:\n",
        "\n",
        "---\n",
        "Э. И. Григолюк, В. И. Шалашилин, Метод продолжения по параметру в задачах нелинейного\n",
        "деформирования стержней, пластин и оболочек,\n",
        "Исслед. по теор. пластин и оболочек, 1984, выпуск 17, часть 1, 3–58\n",
        "\n",
        "Жулин С.С. Метод продолжения по параметру с коррекцией и его приложения\n",
        "\n",
        "Hector Vazquez-Leal Generalized Homotopy Method for Solving Nonlinear Differential Equations\n"
      ]
    }
  ]
}
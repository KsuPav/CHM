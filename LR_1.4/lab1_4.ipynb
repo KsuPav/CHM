{
  "nbformat": 4,
  "nbformat_minor": 0,
  "metadata": {
    "colab": {
      "name": "lab1_4.ipynb",
      "provenance": [],
      "collapsed_sections": []
    },
    "kernelspec": {
      "name": "python3",
      "display_name": "Python 3"
    },
    "language_info": {
      "name": "python"
    }
  },
  "cells": [
    {
      "cell_type": "code",
      "metadata": {
        "id": "nxr0qH4O8wdb"
      },
      "source": [
        "import numpy as np\n",
        "import math"
      ],
      "execution_count": 1,
      "outputs": []
    },
    {
      "cell_type": "markdown",
      "metadata": {
        "id": "StWBylI19LA9"
      },
      "source": [
        "Лабораторная работа 1, задача 4, вариант 17"
      ]
    },
    {
      "cell_type": "code",
      "metadata": {
        "id": "iXCEIE1_9P-Y"
      },
      "source": [
        "def rotation(a, eps=0.01):\n",
        "    n = len(a)\n",
        "    ak = [row.copy() for row in a]\n",
        "\n",
        "    u = [[0. if i != j else 1. for i in range(n)] for j in range(n)]\n",
        "\n",
        "    cov = False\n",
        "\n",
        "    while not cov:\n",
        "        ik, jk = 0, 1\n",
        "\n",
        "        # Выбирается максимальный по модулю недиагональный элемент\n",
        "        for i in range(n - 1):\n",
        "            for j in range(i + 1, n):\n",
        "                if abs(ak[i][j]) > abs(ak[ik][jk]):\n",
        "                    ik, jk = i, j\n",
        "        if ak[ik][ik] == ak[jk][jk]:\n",
        "            phi = math.pi / 4\n",
        "        else:\n",
        "            phi = math.atan(2 * a[ik][jk] / (a[ik][ik] - a[jk][jk])) * 0.5\n",
        "\n",
        "        uk = [[0. if i != j else 1. for i in range(n)] for j in range(n)]\n",
        "\n",
        "        uk[ik][jk] = math.sin(phi)\n",
        "        uk[jk][ik] = -math.sin(phi)\n",
        "\n",
        "        uk[ik][ik] = math.cos(phi)\n",
        "        uk[jk][jk] = math.cos(phi)\n",
        "\n",
        "        # домножаем матрицу а слева на u^T и справа на u^T\n",
        "        tmp = multi(uk, ak)\n",
        "        uk[ik][jk], uk[jk][ik] = uk[jk][ik], uk[ik][jk]\n",
        "\n",
        "        ak = multi(tmp, uk)\n",
        "        u = multi(u, uk)\n",
        "\n",
        "        count = 0\n",
        "\n",
        "        for i in range(n - 1):\n",
        "            for j in range(i + 1, n):\n",
        "                count += ak[i][j] ** 2\n",
        "\n",
        "        average = math.sqrt(count)\n",
        "        if average < eps:\n",
        "            cov = True\n",
        "\n",
        "    return [ak[i][i] for i in range(n)], u"
      ],
      "execution_count": 2,
      "outputs": []
    },
    {
      "cell_type": "code",
      "metadata": {
        "id": "QdWUCSea9ehx"
      },
      "source": [
        "def multi(m1, m2):\n",
        "    sum = 0  # сумма\n",
        "    tmp = []  # временная матрица\n",
        "    ans = []  # конечная матрица\n",
        "    row1 = len(m1)  # количество строк в первой матрице\n",
        "    col1 = len(m1[0])  # Количество столбцов в 1\n",
        "    row2 = col1  # и строк во 2ой матрице\n",
        "    col2 = len(m2[0])  # количество столбцов во 2ой матрице\n",
        "    for k in range(0, row1):\n",
        "        for j in range(0, col2):\n",
        "            for i in range(0, col1):\n",
        "                sum = sum + m1[k][i] * m2[i][j]\n",
        "            tmp.append(sum)\n",
        "            sum = 0\n",
        "        ans.append(tmp)\n",
        "        tmp = []\n",
        "    return ans"
      ],
      "execution_count": 4,
      "outputs": []
    },
    {
      "cell_type": "code",
      "metadata": {
        "id": "m0ihL_Nk9gKB"
      },
      "source": [
        "def matrixsum(a, b):\n",
        "    out = [[0] * len(a[0]) for _ in range(len(a))]\n",
        "    for i in range(len(a)):\n",
        "        for j in range(len(a[0])):\n",
        "            out[i][j] = a[i][j] + b[i][j]\n",
        "    return out"
      ],
      "execution_count": 5,
      "outputs": []
    },
    {
      "cell_type": "code",
      "metadata": {
        "id": "wCFF4rdy9h-x"
      },
      "source": [
        "def show(a, n):\n",
        "    for i in range(0, n):\n",
        "        for j in range(0, n):\n",
        "            print(\"\\t\", a[i][j], \" \", end='')\n",
        "        print(\"\\n\")"
      ],
      "execution_count": 7,
      "outputs": []
    },
    {
      "cell_type": "markdown",
      "metadata": {
        "id": "r9r5oMSh936f"
      },
      "source": [
        "Вариант 17\n",
        "\\begin{equation*}\n",
        "A = \\left(\n",
        "\\begin{array}{ccc}\n",
        "5 &-3 &-4\\\\\n",
        "-3&-3 &4\\\\\n",
        "-4&4&0\n",
        "\\end{array}\n",
        "\\right)\n",
        "\\end{equation*}"
      ]
    },
    {
      "cell_type": "code",
      "metadata": {
        "colab": {
          "base_uri": "https://localhost:8080/"
        },
        "id": "CRaSufx0-iYQ",
        "outputId": "cf03bb43-c417-450f-afa4-cec35baa11f2"
      },
      "source": [
        "eps = 0.01\n",
        "n = 3\n",
        "\n",
        "# вариант 17\n",
        "a = [[5, -3, -4], [-3, -3, 4], [-4, 4, 0]]\n",
        "\n",
        "print(\"Симметрическая матрица:\")\n",
        "show(a, n)\n",
        "\n",
        "x, u = rotation(a, eps)\n",
        "print('x:\\n', x)\n",
        "print('u:\\n')\n",
        "show(u, len(u))\n",
        "\n",
        "print(\"Проверка с помощью linalg:\")\n",
        "x, u = np.linalg.eig(a)\n",
        "print('x:\\n', x)\n",
        "print('u:\\n')\n",
        "show(u, len(u))"
      ],
      "execution_count": 9,
      "outputs": [
        {
          "output_type": "stream",
          "name": "stdout",
          "text": [
            "Симметрическая матрица:\n",
            "\t 5  \t -3  \t -4  \n",
            "\n",
            "\t -3  \t -3  \t 4  \n",
            "\n",
            "\t -4  \t 4  \t 0  \n",
            "\n",
            "x:\n",
            " [9.006611652402118, -5.776463605290808, -1.2301480471132926]\n",
            "u:\n",
            "\n",
            "\t 0.7799249769051313  \t -0.024755149822928618  \t -0.6253832528589707  \n",
            "\n",
            "\t -0.36463734680800086  \t -0.8300911992943908  \t -0.42188648493005576  \n",
            "\n",
            "\t -0.5086812712416123  \t 0.5570778970764281  \t -0.6564355115901949  \n",
            "\n",
            "Проверка с помощью linalg:\n",
            "x:\n",
            " [ 9.00661527 -1.23014325 -5.77647202]\n",
            "u:\n",
            "\n",
            "\t 0.7802932741046164  \t -0.6249590674733193  \t -0.023844713669425758  \n",
            "\n",
            "\t -0.36432031279313665  \t -0.42322179068094057  \t -0.8295504960996223  \n",
            "\n",
            "\t -0.5083435020470007  \t -0.655979786179191  \t 0.5579223996676363  \n",
            "\n"
          ]
        }
      ]
    }
  ]
}
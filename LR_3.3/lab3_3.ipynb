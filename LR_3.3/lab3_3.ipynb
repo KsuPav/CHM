{
  "nbformat": 4,
  "nbformat_minor": 0,
  "metadata": {
    "colab": {
      "name": "lab3_3.ipynb",
      "provenance": [],
      "collapsed_sections": []
    },
    "kernelspec": {
      "name": "python3",
      "display_name": "Python 3"
    },
    "language_info": {
      "name": "python"
    }
  },
  "cells": [
    {
      "cell_type": "markdown",
      "metadata": {
        "id": "rF0tMfI-JwyL"
      },
      "source": [
        "# Лабораторная работа 3, задача 3, вариант 17"
      ]
    },
    {
      "cell_type": "code",
      "metadata": {
        "id": "tCAtG2xPJwWv"
      },
      "source": [
        "import matplotlib.pyplot as plt"
      ],
      "execution_count": 1,
      "outputs": []
    },
    {
      "cell_type": "markdown",
      "metadata": {
        "id": "Z4nPp6TSKEbk"
      },
      "source": [
        "Возьмем метод решения системы с помощью LU разложения из первой лабораторной первой части"
      ]
    },
    {
      "cell_type": "code",
      "metadata": {
        "id": "WIVMUuqjKDZL"
      },
      "source": [
        "def lup(l, u, pi, b, n):\n",
        "    x = [0 for i in range(n)]\n",
        "    y = [0 for i in range(n)]\n",
        "\n",
        "    for i in range(n):\n",
        "        summ = 0\n",
        "        for j in range(i):\n",
        "            summ += l[i][j] * y[j]\n",
        "\n",
        "        y[i] = b[pi[i]] - summ\n",
        "\n",
        "    for i in range(n - 1, -1, -1):\n",
        "        sec_summ = 0\n",
        "        for j in range(i + 1, n):\n",
        "            sec_summ += u[i][j] * x[j]\n",
        "\n",
        "        x[i] = (y[i] - sec_summ) / u[i][i]\n",
        "\n",
        "    x = [round(x[i], 5) for i in range(len(x))]\n",
        "    return x\n",
        "\n",
        "def lupdecompose(a, n):\n",
        "    pi = [i for i in range(n)]\n",
        "    tmp_k = 0\n",
        "    for k in range(n):\n",
        "        p = 0\n",
        "        for i in range(k, n):\n",
        "            if abs(a[i][k]) > p:\n",
        "                p = abs(a[i][k])\n",
        "                tmp_k = i\n",
        "        # if p == 0:\n",
        "        #     #raise MatrixException('Matrix is degenerate')\n",
        "        pi[k], pi[tmp_k] = pi[tmp_k], pi[k]\n",
        "\n",
        "        for i in range(n):\n",
        "            a[k][i], a[tmp_k][i] = a[tmp_k][i], a[k][i]\n",
        "        for i in range(k + 1, n):\n",
        "            a[i][k] = a[i][k] / a[k][k]\n",
        "            for j in range(k + 1, n):\n",
        "                a[i][j] = a[i][j] - a[i][k] * a[k][j]\n",
        "    return pi\n",
        "\n",
        "\n",
        "def get_lu(a):\n",
        "    n = len(a)\n",
        "    l = [[0] * n for i in range(0, n)]\n",
        "    u = [[0] * n for i in range(0, n)]\n",
        "\n",
        "    for i in range(n):\n",
        "        l[i][i] = 1\n",
        "        for j in range(n):\n",
        "            if j < i:\n",
        "                l[i][j] = a[i][j]\n",
        "            else:\n",
        "                u[i][j] = a[i][j]\n",
        "    return l, u    "
      ],
      "execution_count": 2,
      "outputs": []
    },
    {
      "cell_type": "code",
      "metadata": {
        "id": "lDvc6YqaKS-O"
      },
      "source": [
        "def polynomial(x, values):\n",
        "    return sum([c * (x ** i) for i, c in enumerate(values)])"
      ],
      "execution_count": 14,
      "outputs": []
    },
    {
      "cell_type": "code",
      "metadata": {
        "id": "K7zeXGeWKUqw"
      },
      "source": [
        "# квадрат ошибки\n",
        "def sse(f, y): \n",
        "    return round(sum([(f_i - y_i) ** 2 for f_i, y_i in zip(f, y)]), 5)"
      ],
      "execution_count": 8,
      "outputs": []
    },
    {
      "cell_type": "code",
      "metadata": {
        "id": "RDfq1GwyKh7A"
      },
      "source": [
        "# метод наименьших квадратов\n",
        "def mls(n, x, y):\n",
        "    matrix = [[] for _ in range(n + 1)]\n",
        "    size = len(matrix)\n",
        "    for i in range(n + 1):\n",
        "        for j in range(n + 1):\n",
        "            matrix[i].append(sum([x_j ** (i + j) for x_j in x]))\n",
        "\n",
        "    b = [0 for _ in range(n + 1)]\n",
        "    for i in range(n + 1):\n",
        "        b[i] = sum([y_j * (x_j ** i) for x_j, y_j in zip(x, y)])\n",
        "\n",
        "    P = lupdecompose(matrix, size)\n",
        "    l, u = get_lu(matrix)\n",
        "    new_b = lup(l, u, P, b, size)\n",
        "    return [round(i, 5) for i in new_b]"
      ],
      "execution_count": 4,
      "outputs": []
    },
    {
      "cell_type": "code",
      "metadata": {
        "id": "2p5cj5PxKlkn"
      },
      "source": [
        "def fprinter(coefs):\n",
        "    n = len(coefs)\n",
        "    f = f'F{n - 1}(x) = '\n",
        "    for i in range(n):\n",
        "        f += f'{coefs[i]}x^{i} + '\n",
        "    f = f[:-2]\n",
        "    return f"
      ],
      "execution_count": 5,
      "outputs": []
    },
    {
      "cell_type": "markdown",
      "metadata": {
        "id": "tbocHa-jK4Cb"
      },
      "source": [
        "Вариант 17:\n",
        "\n",
        "<table>\n",
        "  <tr>\n",
        "  <td>i</td><td>0</td><td>1</td><td>2</td><td>3</td><td>4</td><td>5</td>\n",
        "  </tr>\n",
        "  <tr>\n",
        "  <td>$$x_i$$</td><td>0.1</td><td>\t0.5</td><td>\t0.9</td><td>\t1.3</td><td>\t1.7</td><td>\t2.1</td>\n",
        "  </tr>  \n",
        "  <tr>\n",
        "  <td>$$y_i$$</td><td>-2.2026</td><td>-0.19315</td><td>0.79464</td><td>1.5624</td><td>2.2306</td><td>2.8419</td>\n",
        "  </tr>    \n",
        "</table>"
      ]
    },
    {
      "cell_type": "code",
      "metadata": {
        "id": "w5TlTqPwKnl-"
      },
      "source": [
        "x = [0.1,\t0.5,\t0.9,\t1.3,\t1.7,\t2.1]\n",
        "y = [-2.2026,\t-0.19315,\t0.79464,\t1.5624,\t2.2306,\t2.8419]"
      ],
      "execution_count": 6,
      "outputs": []
    },
    {
      "cell_type": "code",
      "metadata": {
        "colab": {
          "base_uri": "https://localhost:8080/"
        },
        "id": "8wAmOGfmK29i",
        "outputId": "0d8260dc-ecee-4177-e2c4-f9871f5fa667"
      },
      "source": [
        "F = []\n",
        "err = []\n",
        "coefs = []\n",
        "\n",
        "for degree in [1, 2, 3]:\n",
        "    print(f'Degree = {degree}')\n",
        "    coefs.append(mls(degree, x, y))\n",
        "    print(fprinter(coefs[degree - 1]))\n",
        "    F.append([polynomial(i, coefs[degree - 1]) for i in x])\n",
        "    err.append(sse(F[degree - 1], y))"
      ],
      "execution_count": 18,
      "outputs": [
        {
          "output_type": "stream",
          "name": "stdout",
          "text": [
            "Degree = 1\n",
            "F1(x) = -1.77444x^0 + 2.37582x^1 \n",
            "Degree = 2\n",
            "F2(x) = -2.46046x^0 + 4.40618x^1 + -0.92289x^2 \n",
            "Degree = 3\n",
            "F3(x) = -2.79218x^0 + 6.52318x^1 + -3.39847x^2 + 0.75018x^3 \n"
          ]
        }
      ]
    },
    {
      "cell_type": "code",
      "metadata": {
        "colab": {
          "base_uri": "https://localhost:8080/",
          "height": 483
        },
        "id": "NmYVWVgwTk0Q",
        "outputId": "0401a43f-2aa6-469c-ea48-434f400ed1bc"
      },
      "source": [
        "plt.figure(figsize=(10,8))\n",
        "plt.scatter(x, y, color='r', label='Выборка функции')\n",
        "ind = [1,2,3]\n",
        "colors = ['green','blue','black']\n",
        "for f,i,c in zip(F,ind,colors):\n",
        "  plt.plot(x, f, color=c, label='Многочлен степени '+str(i))\n",
        "  # plt.plot(x, f, color='g', label='Многочлен второй степени')\n",
        "plt.legend(loc='best')\n",
        "plt.grid()\n",
        "plt.show()"
      ],
      "execution_count": 25,
      "outputs": [
        {
          "output_type": "display_data",
          "data": {
            "image/png": "[encoded data removed]",
            "text/plain": [
              "<Figure size 720x576 with 1 Axes>"
            ]
          },
          "metadata": {
            "needs_background": "light"
          }
        }
      ]
    },
    {
      "cell_type": "code",
      "metadata": {
        "colab": {
          "base_uri": "https://localhost:8080/"
        },
        "id": "QkgiikAeTn3A",
        "outputId": "d5c1573e-2a02-4ac8-cd68-ca072e3119b2"
      },
      "source": [
        "k = 1\n",
        "for i in err:\n",
        "    print(f'Error of F{k} = {i}')\n",
        "    k += 1"
      ],
      "execution_count": 26,
      "outputs": [
        {
          "output_type": "stream",
          "name": "stdout",
          "text": [
            "Error of F1 = 0.98541\n",
            "Error of F2 = 0.17139\n",
            "Error of F3 = 0.02202\n"
          ]
        }
      ]
    }
  ]
}
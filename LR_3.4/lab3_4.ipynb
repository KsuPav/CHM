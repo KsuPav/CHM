{
  "nbformat": 4,
  "nbformat_minor": 0,
  "metadata": {
    "colab": {
      "name": "lab3_4.ipynb",
      "provenance": [],
      "collapsed_sections": []
    },
    "kernelspec": {
      "name": "python3",
      "display_name": "Python 3"
    },
    "language_info": {
      "name": "python"
    }
  },
  "cells": [
    {
      "cell_type": "markdown",
      "metadata": {
        "id": "5pFl6hYgXAm2"
      },
      "source": [
        "# Лабораторная работа 3, задача 4, вариант 17"
      ]
    },
    {
      "cell_type": "code",
      "metadata": {
        "id": "xLLQECSQlpdv"
      },
      "source": [
        "import matplotlib.pyplot as plt"
      ],
      "execution_count": 24,
      "outputs": []
    },
    {
      "cell_type": "code",
      "metadata": {
        "id": "3co84SPlW7M7"
      },
      "source": [
        "def findInterval(xi, x0):\n",
        "    for i in range(0,len(xi) - 1):\n",
        "        if xi[i] <= x0 <= xi[i + 1]:\n",
        "            return i"
      ],
      "execution_count": 18,
      "outputs": []
    },
    {
      "cell_type": "code",
      "metadata": {
        "id": "00KM1iyaXIqd"
      },
      "source": [
        "def firstDerivative(xi, yi, x0):\n",
        "    i = findInterval(xi, x0)\n",
        "    left = (yi[i + 1] - yi[i]) / (xi[i + 1] - xi[i])\n",
        "    right = ((yi[i + 2] - yi[i + 1]) / (xi[i + 2] - xi[i + 1]) - left) / \\\n",
        "            (xi[i + 2] - xi[i]) * (2 * x0 - xi[i] - xi[i + 1])\n",
        "    return left + right"
      ],
      "execution_count": 19,
      "outputs": []
    },
    {
      "cell_type": "code",
      "metadata": {
        "id": "WmlC841gXJz1"
      },
      "source": [
        "def secondDerivative(xi, yi, x0):\n",
        "    i = findInterval(xi, x0)\n",
        "    left = (yi[i + 1] - yi[i]) / (xi[i + 1] - xi[i])\n",
        "    right = 2 * ((yi[i + 2] - yi[i + 1]) / (xi[i + 2] - xi[i + 1]) - left) / \\\n",
        "            (xi[i + 2] - xi[i])\n",
        "    return right"
      ],
      "execution_count": 21,
      "outputs": []
    },
    {
      "cell_type": "markdown",
      "metadata": {
        "id": "tioW_vW5XdAX"
      },
      "source": [
        "Вариант 17:\n",
        "\n",
        "$$X^*=0.2$$\n",
        "<table>\n",
        "  <tr>\n",
        "  <td>i</td><td>0</td><td>1</td><td>2</td><td>3</td><td>4</td>\n",
        "  </tr>\n",
        "  <tr>\n",
        "  <td>$$x_i$$</td><td>-0.2</td><td>0.0</td><td>0.2</td><td>0.4</td><td>0.6</td>\n",
        "  </tr>  \n",
        "  <tr>\n",
        "  <td>$$y_i$$</td><td>-0.40136</td><td>0.0</td><td>0.40136</td><td>0.81152</td><td>1.2435</td>\n",
        "  </tr>    \n",
        "</table>"
      ]
    },
    {
      "cell_type": "code",
      "metadata": {
        "colab": {
          "base_uri": "https://localhost:8080/"
        },
        "id": "kTv21XboXVJZ",
        "outputId": "4c2659ef-cdef-4bba-fadc-215d7310b67a"
      },
      "source": [
        "x0 = 0.2\n",
        "xi = [-0.2, 0.0,\t0.2,\t0.4,\t0.6]\n",
        "yi = [-0.40136,\t0.0,\t0.40136,\t0.81152,\t1.2435]\n",
        "print(\"Первая производная в точке = \" + str(round(firstDerivative(xi, yi, x0), 6)))\n",
        "print(\"Вторая производная в точке = \" + str(round(secondDerivative(xi, yi, x0), 6)))"
      ],
      "execution_count": 23,
      "outputs": [
        {
          "output_type": "stream",
          "name": "stdout",
          "text": [
            "Первая производная в точке = 2.0288\n",
            "Вторая производная в точке = 0.22\n"
          ]
        }
      ]
    },
    {
      "cell_type": "markdown",
      "metadata": {
        "id": "dGwbBpyMljyw"
      },
      "source": [
        "Построим графики, чтобы убедиться в правильности результатов:"
      ]
    },
    {
      "cell_type": "code",
      "metadata": {
        "colab": {
          "base_uri": "https://localhost:8080/",
          "height": 501
        },
        "id": "5xT6cdjNltPq",
        "outputId": "f921ce1b-e2d9-479d-c143-72311db476ab"
      },
      "source": [
        "plt.figure(figsize=(10,8))\n",
        "plt.scatter(xi,yi,linewidths=5)\n",
        "plt.plot(xi,yi,c=\"yellow\",linewidth=3)\n",
        "plt.legend([\"Заданная выборка\",\"Попарное соединение двух соседних точек\"])"
      ],
      "execution_count": 37,
      "outputs": [
        {
          "output_type": "execute_result",
          "data": {
            "text/plain": [
              "<matplotlib.legend.Legend at 0x7f3734b4b510>"
            ]
          },
          "metadata": {},
          "execution_count": 37
        },
        {
          "output_type": "display_data",
          "data": {
            "image/png": "[encoded data removed]",
            "text/plain": [
              "<Figure size 720x576 with 1 Axes>"
            ]
          },
          "metadata": {
            "needs_background": "light"
          }
        }
      ]
    },
    {
      "cell_type": "markdown",
      "metadata": {
        "id": "rHUfezmknOmW"
      },
      "source": [
        "Зависимость почти линейная, поэтому тангенс угла наклона касательной в 0.2 равен примерно двум, что совпадает с результатом. И так как функция почти линейна, то вторая производная примерно равна нулю, что видно из второго результата работы программы"
      ]
    }
  ]
}
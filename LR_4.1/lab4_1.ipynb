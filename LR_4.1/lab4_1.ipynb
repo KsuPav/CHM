{
  "nbformat": 4,
  "nbformat_minor": 0,
  "metadata": {
    "colab": {
      "name": "lab4_1.ipynb",
      "provenance": [],
      "collapsed_sections": []
    },
    "kernelspec": {
      "name": "python3",
      "display_name": "Python 3"
    },
    "language_info": {
      "name": "python"
    }
  },
  "cells": [
    {
      "cell_type": "markdown",
      "metadata": {
        "id": "jnPyyjfUReQ2"
      },
      "source": [
        "# Лабораторная работа 4, задача 1, вариант 17"
      ]
    },
    {
      "cell_type": "code",
      "metadata": {
        "id": "H4O2YlYKQHSS"
      },
      "source": [
        "import numpy as np\n",
        "import matplotlib.pyplot as plt"
      ],
      "execution_count": null,
      "outputs": []
    },
    {
      "cell_type": "code",
      "metadata": {
        "id": "HROUi7I6Rjun"
      },
      "source": [
        "def function_of_xyz(x, y, z):\n",
        "    return -y/x + (x+1)*z/x"
      ],
      "execution_count": null,
      "outputs": []
    },
    {
      "cell_type": "code",
      "metadata": {
        "id": "jWXLGlNuRmeI"
      },
      "source": [
        "def absolute_solve(x):\n",
        "    return np.exp(x) + x + 1"
      ],
      "execution_count": null,
      "outputs": []
    },
    {
      "cell_type": "code",
      "metadata": {
        "id": "of3JMPejRnnx"
      },
      "source": [
        "# z = y'\n",
        "def g(x, y, k):\n",
        "    return k"
      ],
      "execution_count": null,
      "outputs": []
    },
    {
      "cell_type": "code",
      "metadata": {
        "id": "KL8GLH4eRnt9"
      },
      "source": [
        "# сумма квадратов отклонений\n",
        "def sse(f, y):\n",
        "    return round(sum([(f_i - y_i) ** 2 for f_i, y_i in zip(f, y)]), 5)"
      ],
      "execution_count": null,
      "outputs": []
    },
    {
      "cell_type": "code",
      "metadata": {
        "id": "4Rdu996PRn0F"
      },
      "source": [
        "# аналитическое решение\n",
        "def analytical(f, a, b, h):\n",
        "    x = [i for i in np.arange(a, b + h, h)]\n",
        "    y = [f(i) for i in x]\n",
        "    return x, y"
      ],
      "execution_count": null,
      "outputs": []
    },
    {
      "cell_type": "code",
      "metadata": {
        "id": "1pLsMGUKRry_"
      },
      "source": [
        "def euler(f, a, b, h, y0, z):\n",
        "    n = int((b - a) / h)\n",
        "    x = [i for i in np.arange(a, b + h, h)]\n",
        "    y = [y0]\n",
        "    k = z\n",
        "    for i in range(n):\n",
        "        k += h * f(x[i], y[i], k)\n",
        "        y.append(y[i] + h * g(x[i], y[i], k))\n",
        "\n",
        "    return x, y"
      ],
      "execution_count": null,
      "outputs": []
    },
    {
      "cell_type": "code",
      "metadata": {
        "id": "_kS8MIGDRn4x"
      },
      "source": [
        "def runge_kutta(f, a, b, h, y0, z):\n",
        "    n = int((b - a) / h)\n",
        "    x = [i for i in np.arange(a, b + h, h)]\n",
        "    y = [y0]\n",
        "    k = [z]\n",
        "    for i in range(n):\n",
        "        k1 = h * g(x[i], y[i], k[i])\n",
        "        l1 = h * f(x[i], y[i], k[i])\n",
        "        k2 = h * g(x[i] + 0.5 * h, y[i] + 0.5 * k1, k[i] + 0.5 * l1)\n",
        "        l2 = h * f(x[i] + 0.5 * h, y[i] + 0.5 * k1, k[i] + 0.5 * l1)\n",
        "        k3 = h * g(x[i] + 0.5 * h, y[i] + 0.5 * k2, k[i] + 0.5 * l2)\n",
        "        l3 = h * f(x[i] + 0.5 * h, y[i] + 0.5 * k2, k[i] + 0.5 * l2)\n",
        "        k4 = h * g(x[i] + h, y[i] + k3, k[i] + l3)\n",
        "        l4 = h * f(x[i] + h, y[i] + k3, k[i] + l3)\n",
        "        y.append(y[i] + (k1 + 2 * k2 + 2 * k3 + k4) / 6)\n",
        "        k.append(k[i] + (l1 + 2 * l2 + 2 * l3 + l4) / 6)\n",
        "    return x, y, k"
      ],
      "execution_count": null,
      "outputs": []
    },
    {
      "cell_type": "code",
      "metadata": {
        "id": "RR7NcOpqRn9g"
      },
      "source": [
        "def adams(f, x, y, k, h):\n",
        "    n = len(x)\n",
        "    x = x[:4]\n",
        "    y = y[:4]\n",
        "    k = k[:4]\n",
        "    for i in range(3, n - 1):\n",
        "        k.append(k[i] + h * (55 * f(x[i], y[i], k[i]) -\n",
        "                             59 * f(x[i - 1], y[i - 1], k[i - 1]) +\n",
        "                             37 * f(x[i - 2], y[i - 2], k[i - 2]) -\n",
        "                              9 * f(x[i - 3], y[i - 3], k[i - 3])) / 24)\n",
        "\n",
        "        y.append(y[i] + h * (55 * g(x[i], y[i], k[i]) -\n",
        "                             59 * g(x[i - 1], y[i - 1], k[i - 1]) +\n",
        "                             37 * g(x[i - 2], y[i - 2], k[i - 2]) -\n",
        "                              9 * g(x[i - 3], y[i - 3], k[i - 3])) / 24)\n",
        "        x.append(x[i] + h)\n",
        "    return x, y"
      ],
      "execution_count": null,
      "outputs": []
    },
    {
      "cell_type": "code",
      "metadata": {
        "id": "BTdVLqc8Uw_d"
      },
      "source": [
        "def runge_romberg(dict_):\n",
        "    k = dict_[0]['h'] / dict_[1]['h']\n",
        "    y1 = [yi for xi, yi in zip(dict_[0]['Euler']['x'], dict_[0]['Euler']['y']) if xi in dict_[1]['Euler']['x']]\n",
        "    y2 = [yi for xi, yi in zip(dict_[1]['Euler']['x'], dict_[1]['Euler']['y']) if xi in dict_[0]['Euler']['x']]\n",
        "    euler = [y1 + (y2 - y1) / (k ** 2 - 1) for y1, y2 in zip(y1, y2)]\n",
        "    x_ex = [xi for xi in dict_[0]['Euler']['x'] if xi in dict_[1]['Euler']['x']]\n",
        "    y_ex = [absolute_solve(i) for i in x_ex]\n",
        "    for i in range(len(euler)):\n",
        "        euler[i] = abs(euler[i] - y_ex[i])\n",
        "\n",
        "    y1 = [yi for xi, yi in zip(dict_[0]['Runge']['x'], dict_[0]['Runge']['y']) if xi in dict_[1]['Runge']['x']]\n",
        "    y2 = [yi for xi, yi in zip(dict_[1]['Runge']['x'], dict_[1]['Runge']['y']) if xi in dict_[0]['Runge']['x']]\n",
        "    runge = [y1 + (y2 - y1) / (k ** 2 - 1) for y1, y2 in zip(y1, y2)]\n",
        "    x_ex = [xi for xi in dict_[0]['Runge']['x'] if xi in dict_[1]['Runge']['x']]\n",
        "    y_ex = [absolute_solve(i) for i in x_ex]\n",
        "    for i in range(len(runge)):\n",
        "        runge[i] = abs(runge[i] - y_ex[i])\n",
        "\n",
        "    y1 = [yi for xi, yi in zip(dict_[0]['Adams']['x'], dict_[0]['Adams']['y']) if xi in dict_[1]['Adams']['x']]\n",
        "    y2 = [yi for xi, yi in zip(dict_[1]['Adams']['x'], dict_[1]['Adams']['y']) if xi in dict_[0]['Adams']['x']]\n",
        "    adams = [y1 + (y2 - y1) / (k ** 2 - 1) for y1, y2 in zip(y1, y2)]\n",
        "    x_ex = [xi for xi in dict_[0]['Adams']['x'] if xi in dict_[1]['Adams']['x']]\n",
        "    y_ex = [absolute_solve(i) for i in x_ex]\n",
        "    for i in range(len(adams)):\n",
        "        adams[i] = abs(adams[i] - y_ex[i])\n",
        "\n",
        "    return {'Euler': euler, 'Runge': runge, 'Adams': adams}"
      ],
      "execution_count": null,
      "outputs": []
    },
    {
      "cell_type": "code",
      "metadata": {
        "id": "3pqDmRsyU00L"
      },
      "source": [
        "def show(res, pure, h):\n",
        "    n = len(res)\n",
        "    plt.figure(figsize=(18,9))\n",
        "    for i in range(n):\n",
        "        plt.subplot(1, n, i + 1)\n",
        "        plt.subplots_adjust(wspace=0.1, hspace=0.6)\n",
        "        plt.scatter(res[i][\"Euler\"][\"x\"], res[i][\"Euler\"][\"y\"], color='r', alpha=0.4, label='Euler method')\n",
        "        plt.plot(res[i][\"Euler\"][\"x\"], res[i][\"Euler\"][\"y\"], color='r', alpha=0.4)\n",
        "        plt.scatter(res[i][\"Runge\"][\"x\"], res[i][\"Runge\"][\"y\"], color='b', alpha=0.4, label='Runge-kutta method')\n",
        "        plt.plot(res[i][\"Runge\"][\"x\"], res[i][\"Runge\"][\"y\"], color='b', alpha=0.4)\n",
        "        plt.scatter(res[i][\"Adams\"][\"x\"], res[i][\"Adams\"][\"y\"], color='g', alpha=0.4, label='Adams method')\n",
        "        plt.plot(res[i][\"Adams\"][\"x\"], res[i][\"Adams\"][\"y\"], color='g', alpha=0.4)\n",
        "        plt.scatter(pure[i][0], pure[i][1], color='k', alpha=0.4, label='Pure function')\n",
        "        plt.plot(pure[i][0], pure[i][1], linestyle='dashed', color='k', alpha=0.4)\n",
        "\n",
        "        plt.legend(loc='best')\n",
        "        plt.title('h{0} = '.format(i + 1) + str(h[i]))\n",
        "        plt.xlabel('x')\n",
        "        plt.ylabel('y')\n",
        "        plt.grid(True)\n",
        "    plt.savefig('Methods.png')\n",
        "    plt.show()"
      ],
      "execution_count": null,
      "outputs": []
    },
    {
      "cell_type": "markdown",
      "metadata": {
        "id": "6bXZ6WWmVri6"
      },
      "source": [
        "Вариант 17:\n",
        "\n",
        "\n",
        "---\n",
        "\n",
        "\n",
        "Задача Коши:\n",
        "$$\n",
        "xy''-(x+1)y'+y=0\\\\\n",
        "y(1)=2+e\\\\\n",
        "y'(1)=1+e\\\\\n",
        "x\\in{[1,2]}\\\\\n",
        "$$\n",
        "Точное решение:\n",
        "$$\n",
        "y = x+1+e^x\n",
        "$$"
      ]
    },
    {
      "cell_type": "code",
      "metadata": {
        "id": "ATjeiJzpVj0O"
      },
      "source": [
        "a = 1\n",
        "b = 2\n",
        "y0 = 2 + np.exp(1)\n",
        "z = 1 + np.exp(1)\n",
        "h = 0.1"
      ],
      "execution_count": null,
      "outputs": []
    },
    {
      "cell_type": "code",
      "metadata": {
        "colab": {
          "base_uri": "https://localhost:8080/",
          "height": 639
        },
        "id": "IbfaIdRLU5i1",
        "outputId": "33f88f3c-3923-4bbc-a2ae-338621e53336"
      },
      "source": [
        "res = []\n",
        "pure = []\n",
        "steps = [h, h/2]\n",
        "for h in steps:\n",
        "    x_eul, y_eul = euler(function_of_xyz, a, b, h, y0, z)\n",
        "    x_rung, y_rung, k_rung = runge_kutta(function_of_xyz, a, b, h, y0, z)\n",
        "    x_ad, y_ad = adams(function_of_xyz, x_rung, y_rung, k_rung, h)\n",
        "    x_anal, y_anal = analytical(absolute_solve, a, b, h)\n",
        "\n",
        "    pure.append((x_anal, y_anal))\n",
        "    res.append({\n",
        "                \"h\": h,\n",
        "                \"Euler\": {'x': x_eul, 'y': y_eul},\n",
        "                \"Runge\": {'x': x_rung, 'y': y_rung},\n",
        "                \"Adams\": {'x': x_ad, 'y': y_ad},\n",
        "                })\n",
        "\n",
        "err = runge_romberg(res)\n",
        "print(\"Euler error: {0}\".format(err['Euler']))\n",
        "print(\"Runge error: {0}\".format(err['Runge']))\n",
        "print(\"Adams error: {0}\".format(err['Adams']))\n",
        "\n",
        "show(res, pure, steps)"
      ],
      "execution_count": null,
      "outputs": [
        {
          "output_type": "stream",
          "name": "stdout",
          "text": [
            "Euler error: [0.0, 0.010969439112582968, 0.021592608379268796, 0.03149510815625689, 0.040249392168547615, 0.04736657409505174, 0.05228739358762624, 0.054372192677730524, 0.0528897500690757, 0.047004812240608373, 0.035764147762641585]\n",
            "Runge error: [0.0, 1.5857183655043627e-07, 3.5049795066299794e-07, 5.810401901840123e-07, 8.561982625110431e-07, 1.1828067307817491e-06, 1.5686442624840424e-06, 2.022556612857329e-06, 2.5545950457228628e-06, 3.1761720542533567e-06, 3.900236505316457e-06]\n",
            "Adams error: [0.0, 1.5857183655043627e-07, 4.5664178927040666e-07, 9.415343322771719e-07, 9.009293043149569e-06, 1.9692507272850435e-05, 3.182356341557835e-05, 4.6354770587342387e-05, 6.370631471597221e-05, 8.417825741346974e-05, 0.0001082392013938005]\n"
          ]
        },
        {
          "output_type": "display_data",
          "data": {
            "image/png": "[encoded data removed]",
            "text/plain": [
              "<Figure size 1296x648 with 2 Axes>"
            ]
          },
          "metadata": {
            "needs_background": "light"
          }
        }
      ]
    }
  ]
}